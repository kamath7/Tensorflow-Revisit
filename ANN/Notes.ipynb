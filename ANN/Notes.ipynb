{
 "cells": [
  {
   "cell_type": "markdown",
   "id": "bc1f03dd",
   "metadata": {},
   "source": [
    "## Feedforward ANNs\n",
    "\n",
    "Input is one side and the output is another. there is recurrence\n",
    "\n",
    "Repeating the single neuron\n",
    "\n",
    "Same ips can be fed to multiple different neurons calculating something different\n",
    "Neurons in one layer can acts as inps to another layer\n",
    "\n",
    "Multiple neurons per layers\n",
    "- call output of jth nueorn \n",
    "\n",
    "Feature Hierarchies\n",
    "\n",
    "- Each layer learns increasingly complex features\n",
    " \n",
    " Neural networks breaks down a problem into smaller sub problems"
   ]
  },
  {
   "cell_type": "markdown",
   "id": "644a66bf",
   "metadata": {},
   "source": [
    "Large weights = important feature\n",
    "Small weights - Not important feature\n",
    "\n",
    "Linear neuron model not very expressive\n",
    "\n",
    "TO make the fitting line complicated - can add more input dimensions\n",
    "Make patter nonlinear\n",
    "\n",
    "Neuron model is the expression for line/plane\n",
    "\n",
    "Each neuron computes different nonlinear feature of input\n",
    "Nonlinear due to the use of sigmoid function\n",
    "\n",
    "Automatic Feature Engineering\n",
    "\n",
    "Ws and Bs are randomly initialised found iteratively using gradient descent\n"
   ]
  },
  {
   "cell_type": "code",
   "execution_count": null,
   "id": "010579a2",
   "metadata": {},
   "outputs": [],
   "source": []
  }
 ],
 "metadata": {
  "kernelspec": {
   "display_name": "Python 3",
   "language": "python",
   "name": "python3"
  },
  "language_info": {
   "codemirror_mode": {
    "name": "ipython",
    "version": 3
   },
   "file_extension": ".py",
   "mimetype": "text/x-python",
   "name": "python",
   "nbconvert_exporter": "python",
   "pygments_lexer": "ipython3",
   "version": "3.8.8"
  }
 },
 "nbformat": 4,
 "nbformat_minor": 5
}
