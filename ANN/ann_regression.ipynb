{
  "nbformat": 4,
  "nbformat_minor": 0,
  "metadata": {
    "colab": {
      "name": "ann_regression.ipynb",
      "provenance": [],
      "collapsed_sections": []
    },
    "kernelspec": {
      "name": "python3",
      "display_name": "Python 3"
    },
    "language_info": {
      "name": "python"
    },
    "accelerator": "GPU"
  },
  "cells": [
    {
      "cell_type": "code",
      "execution_count": 1,
      "metadata": {
        "id": "_XfuiQrT3C0v"
      },
      "outputs": [],
      "source": [
        "import tensorflow as tf"
      ]
    },
    {
      "cell_type": "code",
      "source": [
        "import numpy as np\n",
        "import matplotlib.pyplot as plt \n",
        "from mpl_toolkits.mplot3d import Axes3D\n",
        "\n",
        "N = 1000\n",
        "X = np.random.random((N,2)) * 6 -3 \n",
        "Y = np.cos(2*X[:,0]) + np.cos(3*X[:,1])"
      ],
      "metadata": {
        "id": "_bFtT8ix3H3e"
      },
      "execution_count": 3,
      "outputs": []
    },
    {
      "cell_type": "code",
      "source": [
        "model = tf.keras.models.Sequential([\n",
        "                                    tf.keras.layers.Dense(128, input_shape=(2,), activation=\"relu\"),\n",
        "                                    tf.keras.layers.Dense(1)\n",
        "])"
      ],
      "metadata": {
        "id": "mfo0_VVk3q7I"
      },
      "execution_count": 5,
      "outputs": []
    },
    {
      "cell_type": "code",
      "source": [
        "opt = tf.keras.optimizers.Adam(0.01)\n",
        "model.compile(optimizer = opt, loss=\"mse\")\n",
        "r = model.fit(X,Y, epochs=100)"
      ],
      "metadata": {
        "colab": {
          "base_uri": "https://localhost:8080/"
        },
        "id": "ZcNdFTXH4ZKV",
        "outputId": "ff915fb4-41d0-41a6-e0a0-2c6f42b96c02"
      },
      "execution_count": 8,
      "outputs": [
        {
          "output_type": "stream",
          "name": "stdout",
          "text": [
            "Epoch 1/100\n",
            "32/32 [==============================] - 0s 3ms/step - loss: 0.0661\n",
            "Epoch 2/100\n",
            "32/32 [==============================] - 0s 4ms/step - loss: 0.0137\n",
            "Epoch 3/100\n",
            "32/32 [==============================] - 0s 3ms/step - loss: 0.0051\n",
            "Epoch 4/100\n",
            "32/32 [==============================] - 0s 4ms/step - loss: 0.0044\n",
            "Epoch 5/100\n",
            "32/32 [==============================] - 0s 4ms/step - loss: 0.0034\n",
            "Epoch 6/100\n",
            "32/32 [==============================] - 0s 3ms/step - loss: 0.0036\n",
            "Epoch 7/100\n",
            "32/32 [==============================] - 0s 3ms/step - loss: 0.0049\n",
            "Epoch 8/100\n",
            "32/32 [==============================] - 0s 3ms/step - loss: 0.0047\n",
            "Epoch 9/100\n",
            "32/32 [==============================] - 0s 3ms/step - loss: 0.0088\n",
            "Epoch 10/100\n",
            "32/32 [==============================] - 0s 3ms/step - loss: 0.0159\n",
            "Epoch 11/100\n",
            "32/32 [==============================] - 0s 4ms/step - loss: 0.0090\n",
            "Epoch 12/100\n",
            "32/32 [==============================] - 0s 4ms/step - loss: 0.0087\n",
            "Epoch 13/100\n",
            "32/32 [==============================] - 0s 4ms/step - loss: 0.0253\n",
            "Epoch 14/100\n",
            "32/32 [==============================] - 0s 4ms/step - loss: 0.0138\n",
            "Epoch 15/100\n",
            "32/32 [==============================] - 0s 3ms/step - loss: 0.0508\n",
            "Epoch 16/100\n",
            "32/32 [==============================] - 0s 3ms/step - loss: 0.0287\n",
            "Epoch 17/100\n",
            "32/32 [==============================] - 0s 3ms/step - loss: 0.0334\n",
            "Epoch 18/100\n",
            "32/32 [==============================] - 0s 4ms/step - loss: 0.0152\n",
            "Epoch 19/100\n",
            "32/32 [==============================] - 0s 3ms/step - loss: 0.0136\n",
            "Epoch 20/100\n",
            "32/32 [==============================] - 0s 3ms/step - loss: 0.0108\n",
            "Epoch 21/100\n",
            "32/32 [==============================] - 0s 4ms/step - loss: 0.0122\n",
            "Epoch 22/100\n",
            "32/32 [==============================] - 0s 3ms/step - loss: 0.0063\n",
            "Epoch 23/100\n",
            "32/32 [==============================] - 0s 4ms/step - loss: 0.0061\n",
            "Epoch 24/100\n",
            "32/32 [==============================] - 0s 4ms/step - loss: 0.0076\n",
            "Epoch 25/100\n",
            "32/32 [==============================] - 0s 3ms/step - loss: 0.0039\n",
            "Epoch 26/100\n",
            "32/32 [==============================] - 0s 4ms/step - loss: 0.0038\n",
            "Epoch 27/100\n",
            "32/32 [==============================] - 0s 6ms/step - loss: 0.0033\n",
            "Epoch 28/100\n",
            "32/32 [==============================] - 0s 4ms/step - loss: 0.0039\n",
            "Epoch 29/100\n",
            "32/32 [==============================] - 0s 3ms/step - loss: 0.0059\n",
            "Epoch 30/100\n",
            "32/32 [==============================] - 0s 8ms/step - loss: 0.0089\n",
            "Epoch 31/100\n",
            "32/32 [==============================] - 0s 8ms/step - loss: 0.0070\n",
            "Epoch 32/100\n",
            "32/32 [==============================] - 0s 5ms/step - loss: 0.0132\n",
            "Epoch 33/100\n",
            "32/32 [==============================] - 0s 4ms/step - loss: 0.0101\n",
            "Epoch 34/100\n",
            "32/32 [==============================] - 0s 4ms/step - loss: 0.0228\n",
            "Epoch 35/100\n",
            "32/32 [==============================] - 0s 7ms/step - loss: 0.0113\n",
            "Epoch 36/100\n",
            "32/32 [==============================] - 0s 8ms/step - loss: 0.0329\n",
            "Epoch 37/100\n",
            "32/32 [==============================] - 0s 5ms/step - loss: 0.0491\n",
            "Epoch 38/100\n",
            "32/32 [==============================] - 0s 6ms/step - loss: 0.0543\n",
            "Epoch 39/100\n",
            "32/32 [==============================] - 0s 5ms/step - loss: 0.0207\n",
            "Epoch 40/100\n",
            "32/32 [==============================] - 0s 5ms/step - loss: 0.0049\n",
            "Epoch 41/100\n",
            "32/32 [==============================] - 0s 7ms/step - loss: 0.0034\n",
            "Epoch 42/100\n",
            "32/32 [==============================] - 0s 7ms/step - loss: 0.0066\n",
            "Epoch 43/100\n",
            "32/32 [==============================] - 0s 6ms/step - loss: 0.0078\n",
            "Epoch 44/100\n",
            "32/32 [==============================] - 0s 8ms/step - loss: 0.0090\n",
            "Epoch 45/100\n",
            "32/32 [==============================] - 0s 7ms/step - loss: 0.0723\n",
            "Epoch 46/100\n",
            "32/32 [==============================] - 0s 6ms/step - loss: 0.0231\n",
            "Epoch 47/100\n",
            "32/32 [==============================] - 0s 6ms/step - loss: 0.0308\n",
            "Epoch 48/100\n",
            "32/32 [==============================] - 0s 9ms/step - loss: 0.0134\n",
            "Epoch 49/100\n",
            "32/32 [==============================] - 0s 7ms/step - loss: 0.0045\n",
            "Epoch 50/100\n",
            "32/32 [==============================] - 0s 8ms/step - loss: 0.0058\n",
            "Epoch 51/100\n",
            "32/32 [==============================] - 0s 8ms/step - loss: 0.0067\n",
            "Epoch 52/100\n",
            "32/32 [==============================] - 0s 8ms/step - loss: 0.0057\n",
            "Epoch 53/100\n",
            "32/32 [==============================] - 0s 10ms/step - loss: 0.0056\n",
            "Epoch 54/100\n",
            "32/32 [==============================] - 0s 9ms/step - loss: 0.0048\n",
            "Epoch 55/100\n",
            "32/32 [==============================] - 0s 9ms/step - loss: 0.0079\n",
            "Epoch 56/100\n",
            "32/32 [==============================] - 0s 8ms/step - loss: 0.0148\n",
            "Epoch 57/100\n",
            "32/32 [==============================] - 0s 11ms/step - loss: 0.0152\n",
            "Epoch 58/100\n",
            "32/32 [==============================] - 0s 8ms/step - loss: 0.0138\n",
            "Epoch 59/100\n",
            "32/32 [==============================] - 0s 9ms/step - loss: 0.0193\n",
            "Epoch 60/100\n",
            "32/32 [==============================] - 0s 10ms/step - loss: 0.0104\n",
            "Epoch 61/100\n",
            "32/32 [==============================] - 0s 7ms/step - loss: 0.0061\n",
            "Epoch 62/100\n",
            "32/32 [==============================] - 0s 7ms/step - loss: 0.0083\n",
            "Epoch 63/100\n",
            "32/32 [==============================] - 0s 5ms/step - loss: 0.0035\n",
            "Epoch 64/100\n",
            "32/32 [==============================] - 0s 7ms/step - loss: 0.0052\n",
            "Epoch 65/100\n",
            "32/32 [==============================] - 0s 7ms/step - loss: 0.0099\n",
            "Epoch 66/100\n",
            "32/32 [==============================] - 0s 6ms/step - loss: 0.0046\n",
            "Epoch 67/100\n",
            "32/32 [==============================] - 0s 8ms/step - loss: 0.0103\n",
            "Epoch 68/100\n",
            "32/32 [==============================] - 0s 8ms/step - loss: 0.0076\n",
            "Epoch 69/100\n",
            "32/32 [==============================] - 0s 6ms/step - loss: 0.0056\n",
            "Epoch 70/100\n",
            "32/32 [==============================] - 0s 6ms/step - loss: 0.0065\n",
            "Epoch 71/100\n",
            "32/32 [==============================] - 0s 6ms/step - loss: 0.0055\n",
            "Epoch 72/100\n",
            "32/32 [==============================] - 0s 6ms/step - loss: 0.0080\n",
            "Epoch 73/100\n",
            "32/32 [==============================] - 0s 7ms/step - loss: 0.0060\n",
            "Epoch 74/100\n",
            "32/32 [==============================] - 0s 6ms/step - loss: 0.0101\n",
            "Epoch 75/100\n",
            "32/32 [==============================] - 0s 5ms/step - loss: 0.0071\n",
            "Epoch 76/100\n",
            "32/32 [==============================] - 0s 6ms/step - loss: 0.0047\n",
            "Epoch 77/100\n",
            "32/32 [==============================] - 0s 7ms/step - loss: 0.0035\n",
            "Epoch 78/100\n",
            "32/32 [==============================] - 0s 6ms/step - loss: 0.0071\n",
            "Epoch 79/100\n",
            "32/32 [==============================] - 0s 7ms/step - loss: 0.0233\n",
            "Epoch 80/100\n",
            "32/32 [==============================] - 0s 6ms/step - loss: 0.0387\n",
            "Epoch 81/100\n",
            "32/32 [==============================] - 0s 6ms/step - loss: 0.0118\n",
            "Epoch 82/100\n",
            "32/32 [==============================] - 0s 6ms/step - loss: 0.0054\n",
            "Epoch 83/100\n",
            "32/32 [==============================] - 0s 6ms/step - loss: 0.0047\n",
            "Epoch 84/100\n",
            "32/32 [==============================] - 0s 6ms/step - loss: 0.0034\n",
            "Epoch 85/100\n",
            "32/32 [==============================] - 0s 6ms/step - loss: 0.0034\n",
            "Epoch 86/100\n",
            "32/32 [==============================] - 0s 7ms/step - loss: 0.0038\n",
            "Epoch 87/100\n",
            "32/32 [==============================] - 0s 6ms/step - loss: 0.0084\n",
            "Epoch 88/100\n",
            "32/32 [==============================] - 0s 6ms/step - loss: 0.0085\n",
            "Epoch 89/100\n",
            "32/32 [==============================] - 0s 6ms/step - loss: 0.0089\n",
            "Epoch 90/100\n",
            "32/32 [==============================] - 0s 8ms/step - loss: 0.0278\n",
            "Epoch 91/100\n",
            "32/32 [==============================] - 0s 6ms/step - loss: 0.0130\n",
            "Epoch 92/100\n",
            "32/32 [==============================] - 0s 6ms/step - loss: 0.0044\n",
            "Epoch 93/100\n",
            "32/32 [==============================] - 0s 6ms/step - loss: 0.0688\n",
            "Epoch 94/100\n",
            "32/32 [==============================] - 0s 6ms/step - loss: 0.0488\n",
            "Epoch 95/100\n",
            "32/32 [==============================] - 0s 8ms/step - loss: 0.0168\n",
            "Epoch 96/100\n",
            "32/32 [==============================] - 0s 6ms/step - loss: 0.0082\n",
            "Epoch 97/100\n",
            "32/32 [==============================] - 0s 6ms/step - loss: 0.0035\n",
            "Epoch 98/100\n",
            "32/32 [==============================] - 0s 5ms/step - loss: 0.0047\n",
            "Epoch 99/100\n",
            "32/32 [==============================] - 0s 6ms/step - loss: 0.0035\n",
            "Epoch 100/100\n",
            "32/32 [==============================] - 0s 6ms/step - loss: 0.0043\n"
          ]
        }
      ]
    },
    {
      "cell_type": "code",
      "source": [
        "plt.plot(r.history['loss'], label=\"loss\")"
      ],
      "metadata": {
        "colab": {
          "base_uri": "https://localhost:8080/",
          "height": 282
        },
        "id": "bwE17Kz44klZ",
        "outputId": "5aa9d7aa-59bc-49c2-c21e-df82da148021"
      },
      "execution_count": 9,
      "outputs": [
        {
          "output_type": "execute_result",
          "data": {
            "text/plain": [
              "[<matplotlib.lines.Line2D at 0x7ff9bab210d0>]"
            ]
          },
          "metadata": {},
          "execution_count": 9
        },
        {
          "output_type": "display_data",
          "data": {
            "image/png": "[encoded data removed]",
            "text/plain": [
              "<Figure size 432x288 with 1 Axes>"
            ]
          },
          "metadata": {
            "needs_background": "light"
          }
        }
      ]
    },
    {
      "cell_type": "code",
      "source": [
        ""
      ],
      "metadata": {
        "id": "LguEiazf40mL"
      },
      "execution_count": null,
      "outputs": []
    }
  ]
}