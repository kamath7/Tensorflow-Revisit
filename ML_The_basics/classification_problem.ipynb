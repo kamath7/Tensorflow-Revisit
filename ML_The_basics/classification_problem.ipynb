{
  "nbformat": 4,
  "nbformat_minor": 0,
  "metadata": {
    "colab": {
      "name": "classification_problem.ipynb",
      "provenance": [],
      "collapsed_sections": []
    },
    "kernelspec": {
      "name": "python3",
      "display_name": "Python 3"
    },
    "language_info": {
      "name": "python"
    },
    "accelerator": "GPU"
  },
  "cells": [
    {
      "cell_type": "code",
      "execution_count": 21,
      "metadata": {
        "colab": {
          "base_uri": "https://localhost:8080/"
        },
        "id": "E_jMzURt5SNm",
        "outputId": "dd047542-05c8-4ef6-81be-20f54db869c8"
      },
      "outputs": [
        {
          "output_type": "stream",
          "name": "stdout",
          "text": [
            "2.7.0\n"
          ]
        }
      ],
      "source": [
        "import tensorflow as tf\n",
        "print(tf.__version__)\n"
      ]
    },
    {
      "cell_type": "code",
      "source": [
        "from sklearn.datasets import load_breast_cancer"
      ],
      "metadata": {
        "id": "Io1OP-dJ5WCg"
      },
      "execution_count": 22,
      "outputs": []
    },
    {
      "cell_type": "code",
      "source": [
        "data = load_breast_cancer()\n",
        "type(data)\n"
      ],
      "metadata": {
        "colab": {
          "base_uri": "https://localhost:8080/"
        },
        "id": "f0-8LkE35euq",
        "outputId": "3190b514-566e-459a-f403-d0b8d4f4a48b"
      },
      "execution_count": 23,
      "outputs": [
        {
          "output_type": "execute_result",
          "data": {
            "text/plain": [
              "sklearn.utils.Bunch"
            ]
          },
          "metadata": {},
          "execution_count": 23
        }
      ]
    },
    {
      "cell_type": "code",
      "source": [
        "print(data)"
      ],
      "metadata": {
        "colab": {
          "base_uri": "https://localhost:8080/"
        },
        "id": "f3bQpOFJ5iRe",
        "outputId": "a29e9bca-0cd1-48f8-bdad-751bdf61276a"
      },
      "execution_count": 24,
      "outputs": [
        {
          "output_type": "stream",
          "name": "stdout",
          "text": [
            "{'data': array([[1.799e+01, 1.038e+01, 1.228e+02, ..., 2.654e-01, 4.601e-01,\n",
            "        1.189e-01],\n",
            "       [2.057e+01, 1.777e+01, 1.329e+02, ..., 1.860e-01, 2.750e-01,\n",
            "        8.902e-02],\n",
            "       [1.969e+01, 2.125e+01, 1.300e+02, ..., 2.430e-01, 3.613e-01,\n",
            "        8.758e-02],\n",
            "       ...,\n",
            "       [1.660e+01, 2.808e+01, 1.083e+02, ..., 1.418e-01, 2.218e-01,\n",
            "        7.820e-02],\n",
            "       [2.060e+01, 2.933e+01, 1.401e+02, ..., 2.650e-01, 4.087e-01,\n",
            "        1.240e-01],\n",
            "       [7.760e+00, 2.454e+01, 4.792e+01, ..., 0.000e+00, 2.871e-01,\n",
            "        7.039e-02]]), 'target': array([0, 0, 0, 0, 0, 0, 0, 0, 0, 0, 0, 0, 0, 0, 0, 0, 0, 0, 0, 1, 1, 1,\n",
            "       0, 0, 0, 0, 0, 0, 0, 0, 0, 0, 0, 0, 0, 0, 0, 1, 0, 0, 0, 0, 0, 0,\n",
            "       0, 0, 1, 0, 1, 1, 1, 1, 1, 0, 0, 1, 0, 0, 1, 1, 1, 1, 0, 1, 0, 0,\n",
            "       1, 1, 1, 1, 0, 1, 0, 0, 1, 0, 1, 0, 0, 1, 1, 1, 0, 0, 1, 0, 0, 0,\n",
            "       1, 1, 1, 0, 1, 1, 0, 0, 1, 1, 1, 0, 0, 1, 1, 1, 1, 0, 1, 1, 0, 1,\n",
            "       1, 1, 1, 1, 1, 1, 1, 0, 0, 0, 1, 0, 0, 1, 1, 1, 0, 0, 1, 0, 1, 0,\n",
            "       0, 1, 0, 0, 1, 1, 0, 1, 1, 0, 1, 1, 1, 1, 0, 1, 1, 1, 1, 1, 1, 1,\n",
            "       1, 1, 0, 1, 1, 1, 1, 0, 0, 1, 0, 1, 1, 0, 0, 1, 1, 0, 0, 1, 1, 1,\n",
            "       1, 0, 1, 1, 0, 0, 0, 1, 0, 1, 0, 1, 1, 1, 0, 1, 1, 0, 0, 1, 0, 0,\n",
            "       0, 0, 1, 0, 0, 0, 1, 0, 1, 0, 1, 1, 0, 1, 0, 0, 0, 0, 1, 1, 0, 0,\n",
            "       1, 1, 1, 0, 1, 1, 1, 1, 1, 0, 0, 1, 1, 0, 1, 1, 0, 0, 1, 0, 1, 1,\n",
            "       1, 1, 0, 1, 1, 1, 1, 1, 0, 1, 0, 0, 0, 0, 0, 0, 0, 0, 0, 0, 0, 0,\n",
            "       0, 0, 1, 1, 1, 1, 1, 1, 0, 1, 0, 1, 1, 0, 1, 1, 0, 1, 0, 0, 1, 1,\n",
            "       1, 1, 1, 1, 1, 1, 1, 1, 1, 1, 1, 0, 1, 1, 0, 1, 0, 1, 1, 1, 1, 1,\n",
            "       1, 1, 1, 1, 1, 1, 1, 1, 1, 0, 1, 1, 1, 0, 1, 0, 1, 1, 1, 1, 0, 0,\n",
            "       0, 1, 1, 1, 1, 0, 1, 0, 1, 0, 1, 1, 1, 0, 1, 1, 1, 1, 1, 1, 1, 0,\n",
            "       0, 0, 1, 1, 1, 1, 1, 1, 1, 1, 1, 1, 1, 0, 0, 1, 0, 0, 0, 1, 0, 0,\n",
            "       1, 1, 1, 1, 1, 0, 1, 1, 1, 1, 1, 0, 1, 1, 1, 0, 1, 1, 0, 0, 1, 1,\n",
            "       1, 1, 1, 1, 0, 1, 1, 1, 1, 1, 1, 1, 0, 1, 1, 1, 1, 1, 0, 1, 1, 0,\n",
            "       1, 1, 1, 1, 1, 1, 1, 1, 1, 1, 1, 1, 0, 1, 0, 0, 1, 0, 1, 1, 1, 1,\n",
            "       1, 0, 1, 1, 0, 1, 0, 1, 1, 0, 1, 0, 1, 1, 1, 1, 1, 1, 1, 1, 0, 0,\n",
            "       1, 1, 1, 1, 1, 1, 0, 1, 1, 1, 1, 1, 1, 1, 1, 1, 1, 0, 1, 1, 1, 1,\n",
            "       1, 1, 1, 0, 1, 0, 1, 1, 0, 1, 1, 1, 1, 1, 0, 0, 1, 0, 1, 0, 1, 1,\n",
            "       1, 1, 1, 0, 1, 1, 0, 1, 0, 1, 0, 0, 1, 1, 1, 0, 1, 1, 1, 1, 1, 1,\n",
            "       1, 1, 1, 1, 1, 0, 1, 0, 0, 1, 1, 1, 1, 1, 1, 1, 1, 1, 1, 1, 1, 1,\n",
            "       1, 1, 1, 1, 1, 1, 1, 1, 1, 1, 1, 1, 0, 0, 0, 0, 0, 0, 1]), 'frame': None, 'target_names': array(['malignant', 'benign'], dtype='<U9'), 'DESCR': '.. _breast_cancer_dataset:\\n\\nBreast cancer wisconsin (diagnostic) dataset\\n--------------------------------------------\\n\\n**Data Set Characteristics:**\\n\\n    :Number of Instances: 569\\n\\n    :Number of Attributes: 30 numeric, predictive attributes and the class\\n\\n    :Attribute Information:\\n        - radius (mean of distances from center to points on the perimeter)\\n        - texture (standard deviation of gray-scale values)\\n        - perimeter\\n        - area\\n        - smoothness (local variation in radius lengths)\\n        - compactness (perimeter^2 / area - 1.0)\\n        - concavity (severity of concave portions of the contour)\\n        - concave points (number of concave portions of the contour)\\n        - symmetry\\n        - fractal dimension (\"coastline approximation\" - 1)\\n\\n        The mean, standard error, and \"worst\" or largest (mean of the three\\n        worst/largest values) of these features were computed for each image,\\n        resulting in 30 features.  For instance, field 0 is Mean Radius, field\\n        10 is Radius SE, field 20 is Worst Radius.\\n\\n        - class:\\n                - WDBC-Malignant\\n                - WDBC-Benign\\n\\n    :Summary Statistics:\\n\\n    ===================================== ====== ======\\n                                           Min    Max\\n    ===================================== ====== ======\\n    radius (mean):                        6.981  28.11\\n    texture (mean):                       9.71   39.28\\n    perimeter (mean):                     43.79  188.5\\n    area (mean):                          143.5  2501.0\\n    smoothness (mean):                    0.053  0.163\\n    compactness (mean):                   0.019  0.345\\n    concavity (mean):                     0.0    0.427\\n    concave points (mean):                0.0    0.201\\n    symmetry (mean):                      0.106  0.304\\n    fractal dimension (mean):             0.05   0.097\\n    radius (standard error):              0.112  2.873\\n    texture (standard error):             0.36   4.885\\n    perimeter (standard error):           0.757  21.98\\n    area (standard error):                6.802  542.2\\n    smoothness (standard error):          0.002  0.031\\n    compactness (standard error):         0.002  0.135\\n    concavity (standard error):           0.0    0.396\\n    concave points (standard error):      0.0    0.053\\n    symmetry (standard error):            0.008  0.079\\n    fractal dimension (standard error):   0.001  0.03\\n    radius (worst):                       7.93   36.04\\n    texture (worst):                      12.02  49.54\\n    perimeter (worst):                    50.41  251.2\\n    area (worst):                         185.2  4254.0\\n    smoothness (worst):                   0.071  0.223\\n    compactness (worst):                  0.027  1.058\\n    concavity (worst):                    0.0    1.252\\n    concave points (worst):               0.0    0.291\\n    symmetry (worst):                     0.156  0.664\\n    fractal dimension (worst):            0.055  0.208\\n    ===================================== ====== ======\\n\\n    :Missing Attribute Values: None\\n\\n    :Class Distribution: 212 - Malignant, 357 - Benign\\n\\n    :Creator:  Dr. William H. Wolberg, W. Nick Street, Olvi L. Mangasarian\\n\\n    :Donor: Nick Street\\n\\n    :Date: November, 1995\\n\\nThis is a copy of UCI ML Breast Cancer Wisconsin (Diagnostic) datasets.\\nhttps://goo.gl/U2Uwz2\\n\\nFeatures are computed from a digitized image of a fine needle\\naspirate (FNA) of a breast mass.  They describe\\ncharacteristics of the cell nuclei present in the image.\\n\\nSeparating plane described above was obtained using\\nMultisurface Method-Tree (MSM-T) [K. P. Bennett, \"Decision Tree\\nConstruction Via Linear Programming.\" Proceedings of the 4th\\nMidwest Artificial Intelligence and Cognitive Science Society,\\npp. 97-101, 1992], a classification method which uses linear\\nprogramming to construct a decision tree.  Relevant features\\nwere selected using an exhaustive search in the space of 1-4\\nfeatures and 1-3 separating planes.\\n\\nThe actual linear program used to obtain the separating plane\\nin the 3-dimensional space is that described in:\\n[K. P. Bennett and O. L. Mangasarian: \"Robust Linear\\nProgramming Discrimination of Two Linearly Inseparable Sets\",\\nOptimization Methods and Software 1, 1992, 23-34].\\n\\nThis database is also available through the UW CS ftp server:\\n\\nftp ftp.cs.wisc.edu\\ncd math-prog/cpo-dataset/machine-learn/WDBC/\\n\\n.. topic:: References\\n\\n   - W.N. Street, W.H. Wolberg and O.L. Mangasarian. Nuclear feature extraction \\n     for breast tumor diagnosis. IS&T/SPIE 1993 International Symposium on \\n     Electronic Imaging: Science and Technology, volume 1905, pages 861-870,\\n     San Jose, CA, 1993.\\n   - O.L. Mangasarian, W.N. Street and W.H. Wolberg. Breast cancer diagnosis and \\n     prognosis via linear programming. Operations Research, 43(4), pages 570-577, \\n     July-August 1995.\\n   - W.H. Wolberg, W.N. Street, and O.L. Mangasarian. Machine learning techniques\\n     to diagnose breast cancer from fine-needle aspirates. Cancer Letters 77 (1994) \\n     163-171.', 'feature_names': array(['mean radius', 'mean texture', 'mean perimeter', 'mean area',\n",
            "       'mean smoothness', 'mean compactness', 'mean concavity',\n",
            "       'mean concave points', 'mean symmetry', 'mean fractal dimension',\n",
            "       'radius error', 'texture error', 'perimeter error', 'area error',\n",
            "       'smoothness error', 'compactness error', 'concavity error',\n",
            "       'concave points error', 'symmetry error',\n",
            "       'fractal dimension error', 'worst radius', 'worst texture',\n",
            "       'worst perimeter', 'worst area', 'worst smoothness',\n",
            "       'worst compactness', 'worst concavity', 'worst concave points',\n",
            "       'worst symmetry', 'worst fractal dimension'], dtype='<U23'), 'filename': 'breast_cancer.csv', 'data_module': 'sklearn.datasets.data'}\n"
          ]
        }
      ]
    },
    {
      "cell_type": "code",
      "source": [
        "print(data.keys())"
      ],
      "metadata": {
        "colab": {
          "base_uri": "https://localhost:8080/"
        },
        "id": "yFsNDYY95lGy",
        "outputId": "ecc81524-c79b-4a09-8762-f195e69fa062"
      },
      "execution_count": 25,
      "outputs": [
        {
          "output_type": "stream",
          "name": "stdout",
          "text": [
            "dict_keys(['data', 'target', 'frame', 'target_names', 'DESCR', 'feature_names', 'filename', 'data_module'])\n"
          ]
        }
      ]
    },
    {
      "cell_type": "code",
      "source": [
        "print(data.data.shape)"
      ],
      "metadata": {
        "colab": {
          "base_uri": "https://localhost:8080/"
        },
        "id": "2KSrdKlc5on8",
        "outputId": "04675d7d-d6f8-4109-f28b-62de9b1a72b8"
      },
      "execution_count": 26,
      "outputs": [
        {
          "output_type": "stream",
          "name": "stdout",
          "text": [
            "(569, 30)\n"
          ]
        }
      ]
    },
    {
      "cell_type": "code",
      "source": [
        "data.target #benign and malignant"
      ],
      "metadata": {
        "colab": {
          "base_uri": "https://localhost:8080/"
        },
        "id": "MdEu72SS5uDq",
        "outputId": "e090289b-c197-4a37-b947-215fe9b5b212"
      },
      "execution_count": 27,
      "outputs": [
        {
          "output_type": "execute_result",
          "data": {
            "text/plain": [
              "array([0, 0, 0, 0, 0, 0, 0, 0, 0, 0, 0, 0, 0, 0, 0, 0, 0, 0, 0, 1, 1, 1,\n",
              "       0, 0, 0, 0, 0, 0, 0, 0, 0, 0, 0, 0, 0, 0, 0, 1, 0, 0, 0, 0, 0, 0,\n",
              "       0, 0, 1, 0, 1, 1, 1, 1, 1, 0, 0, 1, 0, 0, 1, 1, 1, 1, 0, 1, 0, 0,\n",
              "       1, 1, 1, 1, 0, 1, 0, 0, 1, 0, 1, 0, 0, 1, 1, 1, 0, 0, 1, 0, 0, 0,\n",
              "       1, 1, 1, 0, 1, 1, 0, 0, 1, 1, 1, 0, 0, 1, 1, 1, 1, 0, 1, 1, 0, 1,\n",
              "       1, 1, 1, 1, 1, 1, 1, 0, 0, 0, 1, 0, 0, 1, 1, 1, 0, 0, 1, 0, 1, 0,\n",
              "       0, 1, 0, 0, 1, 1, 0, 1, 1, 0, 1, 1, 1, 1, 0, 1, 1, 1, 1, 1, 1, 1,\n",
              "       1, 1, 0, 1, 1, 1, 1, 0, 0, 1, 0, 1, 1, 0, 0, 1, 1, 0, 0, 1, 1, 1,\n",
              "       1, 0, 1, 1, 0, 0, 0, 1, 0, 1, 0, 1, 1, 1, 0, 1, 1, 0, 0, 1, 0, 0,\n",
              "       0, 0, 1, 0, 0, 0, 1, 0, 1, 0, 1, 1, 0, 1, 0, 0, 0, 0, 1, 1, 0, 0,\n",
              "       1, 1, 1, 0, 1, 1, 1, 1, 1, 0, 0, 1, 1, 0, 1, 1, 0, 0, 1, 0, 1, 1,\n",
              "       1, 1, 0, 1, 1, 1, 1, 1, 0, 1, 0, 0, 0, 0, 0, 0, 0, 0, 0, 0, 0, 0,\n",
              "       0, 0, 1, 1, 1, 1, 1, 1, 0, 1, 0, 1, 1, 0, 1, 1, 0, 1, 0, 0, 1, 1,\n",
              "       1, 1, 1, 1, 1, 1, 1, 1, 1, 1, 1, 0, 1, 1, 0, 1, 0, 1, 1, 1, 1, 1,\n",
              "       1, 1, 1, 1, 1, 1, 1, 1, 1, 0, 1, 1, 1, 0, 1, 0, 1, 1, 1, 1, 0, 0,\n",
              "       0, 1, 1, 1, 1, 0, 1, 0, 1, 0, 1, 1, 1, 0, 1, 1, 1, 1, 1, 1, 1, 0,\n",
              "       0, 0, 1, 1, 1, 1, 1, 1, 1, 1, 1, 1, 1, 0, 0, 1, 0, 0, 0, 1, 0, 0,\n",
              "       1, 1, 1, 1, 1, 0, 1, 1, 1, 1, 1, 0, 1, 1, 1, 0, 1, 1, 0, 0, 1, 1,\n",
              "       1, 1, 1, 1, 0, 1, 1, 1, 1, 1, 1, 1, 0, 1, 1, 1, 1, 1, 0, 1, 1, 0,\n",
              "       1, 1, 1, 1, 1, 1, 1, 1, 1, 1, 1, 1, 0, 1, 0, 0, 1, 0, 1, 1, 1, 1,\n",
              "       1, 0, 1, 1, 0, 1, 0, 1, 1, 0, 1, 0, 1, 1, 1, 1, 1, 1, 1, 1, 0, 0,\n",
              "       1, 1, 1, 1, 1, 1, 0, 1, 1, 1, 1, 1, 1, 1, 1, 1, 1, 0, 1, 1, 1, 1,\n",
              "       1, 1, 1, 0, 1, 0, 1, 1, 0, 1, 1, 1, 1, 1, 0, 0, 1, 0, 1, 0, 1, 1,\n",
              "       1, 1, 1, 0, 1, 1, 0, 1, 0, 1, 0, 0, 1, 1, 1, 0, 1, 1, 1, 1, 1, 1,\n",
              "       1, 1, 1, 1, 1, 0, 1, 0, 0, 1, 1, 1, 1, 1, 1, 1, 1, 1, 1, 1, 1, 1,\n",
              "       1, 1, 1, 1, 1, 1, 1, 1, 1, 1, 1, 1, 0, 0, 0, 0, 0, 0, 1])"
            ]
          },
          "metadata": {},
          "execution_count": 27
        }
      ]
    },
    {
      "cell_type": "code",
      "source": [
        "data.target_names"
      ],
      "metadata": {
        "colab": {
          "base_uri": "https://localhost:8080/"
        },
        "id": "fVCXa0wN58IL",
        "outputId": "379e67a5-dfac-42f9-e396-660cc8e3c12b"
      },
      "execution_count": 28,
      "outputs": [
        {
          "output_type": "execute_result",
          "data": {
            "text/plain": [
              "array(['malignant', 'benign'], dtype='<U9')"
            ]
          },
          "metadata": {},
          "execution_count": 28
        }
      ]
    },
    {
      "cell_type": "code",
      "source": [
        "data.feature_names"
      ],
      "metadata": {
        "colab": {
          "base_uri": "https://localhost:8080/"
        },
        "id": "04r6iQbL5-Ul",
        "outputId": "bc7735b4-ef55-4286-adf7-abcb0e5ef445"
      },
      "execution_count": 29,
      "outputs": [
        {
          "output_type": "execute_result",
          "data": {
            "text/plain": [
              "array(['mean radius', 'mean texture', 'mean perimeter', 'mean area',\n",
              "       'mean smoothness', 'mean compactness', 'mean concavity',\n",
              "       'mean concave points', 'mean symmetry', 'mean fractal dimension',\n",
              "       'radius error', 'texture error', 'perimeter error', 'area error',\n",
              "       'smoothness error', 'compactness error', 'concavity error',\n",
              "       'concave points error', 'symmetry error',\n",
              "       'fractal dimension error', 'worst radius', 'worst texture',\n",
              "       'worst perimeter', 'worst area', 'worst smoothness',\n",
              "       'worst compactness', 'worst concavity', 'worst concave points',\n",
              "       'worst symmetry', 'worst fractal dimension'], dtype='<U23')"
            ]
          },
          "metadata": {},
          "execution_count": 29
        }
      ]
    },
    {
      "cell_type": "code",
      "source": [
        "from sklearn.model_selection import train_test_split\n",
        "\n",
        "X_train, X_test, y_train, y_test = train_test_split(data.data, data.target, test_size=0.30,random_state=0)\n",
        "N,D = X_train.shape"
      ],
      "metadata": {
        "id": "ownKi22V6Scf"
      },
      "execution_count": 30,
      "outputs": []
    },
    {
      "cell_type": "code",
      "source": [
        "#Scaling\n",
        "from sklearn.preprocessing import StandardScaler\n",
        "sc = StandardScaler()\n",
        "X_train = sc.fit_transform(X_train)\n",
        "X_test = sc.transform(X_test)"
      ],
      "metadata": {
        "id": "eYIThp_N6llp"
      },
      "execution_count": 31,
      "outputs": []
    },
    {
      "cell_type": "code",
      "source": [
        "X_train"
      ],
      "metadata": {
        "colab": {
          "base_uri": "https://localhost:8080/"
        },
        "id": "B6xTOK0i6rbZ",
        "outputId": "762a5d2e-43c2-440a-9128-6710fb6e25e5"
      },
      "execution_count": 32,
      "outputs": [
        {
          "output_type": "execute_result",
          "data": {
            "text/plain": [
              "array([[-0.74998027, -1.09978744, -0.74158608, ..., -0.6235968 ,\n",
              "         0.07754241,  0.45062841],\n",
              "       [-1.02821446, -0.1392617 , -1.02980434, ..., -0.7612376 ,\n",
              "        -1.07145262, -0.29541379],\n",
              "       [-0.53852228, -0.29934933, -0.56857428, ..., -0.50470441,\n",
              "         0.34900827, -0.13371556],\n",
              "       ...,\n",
              "       [-1.3214733 , -0.20855336, -1.3143845 , ..., -0.98621857,\n",
              "        -0.69108476, -0.13148524],\n",
              "       [-1.24245479, -0.23244704, -1.27759928, ..., -1.7562754 ,\n",
              "        -1.55125275, -1.01078909],\n",
              "       [-0.74441558,  1.13188181, -0.72016173, ..., -0.28490593,\n",
              "        -1.2308599 ,  0.20083251]])"
            ]
          },
          "metadata": {},
          "execution_count": 32
        }
      ]
    },
    {
      "cell_type": "code",
      "source": [
        "#creating a model\n",
        "model = tf.keras.models.Sequential([tf.keras.layers.Input(shape=(D,)), tf.keras.layers.Dense(1, activation=\"sigmoid\")])"
      ],
      "metadata": {
        "id": "h2ATzR4D7C5H"
      },
      "execution_count": 34,
      "outputs": []
    },
    {
      "cell_type": "code",
      "source": [
        "model.compile(optimizer=\"adam\", loss=\"binary_crossentropy\", metrics=['accuracy'])"
      ],
      "metadata": {
        "id": "4BraUuvw7W3t"
      },
      "execution_count": 35,
      "outputs": []
    },
    {
      "cell_type": "code",
      "source": [
        "r = model.fit(X_train, y_train, validation_data=(X_test, y_test), epochs=100)\n",
        "print(\"Training score \", model.evaluate(X_train, y_train))\n",
        "print(\"test score \", model.evaluate(X_test, y_test))\n"
      ],
      "metadata": {
        "colab": {
          "base_uri": "https://localhost:8080/"
        },
        "id": "TEoxHP8C7lTT",
        "outputId": "0cee9df3-2ef9-4754-80af-8a64ec3a7c30"
      },
      "execution_count": 37,
      "outputs": [
        {
          "output_type": "stream",
          "name": "stdout",
          "text": [
            "Epoch 1/100\n",
            "13/13 [==============================] - 0s 29ms/step - loss: 0.3143 - accuracy: 0.8894 - val_loss: 0.2944 - val_accuracy: 0.9064\n",
            "Epoch 2/100\n",
            "13/13 [==============================] - 0s 15ms/step - loss: 0.2910 - accuracy: 0.9095 - val_loss: 0.2755 - val_accuracy: 0.9006\n",
            "Epoch 3/100\n",
            "13/13 [==============================] - 0s 16ms/step - loss: 0.2718 - accuracy: 0.9171 - val_loss: 0.2592 - val_accuracy: 0.9006\n",
            "Epoch 4/100\n",
            "13/13 [==============================] - 0s 11ms/step - loss: 0.2549 - accuracy: 0.9372 - val_loss: 0.2458 - val_accuracy: 0.9006\n",
            "Epoch 5/100\n",
            "13/13 [==============================] - 0s 15ms/step - loss: 0.2406 - accuracy: 0.9397 - val_loss: 0.2344 - val_accuracy: 0.9006\n",
            "Epoch 6/100\n",
            "13/13 [==============================] - 0s 12ms/step - loss: 0.2280 - accuracy: 0.9447 - val_loss: 0.2243 - val_accuracy: 0.9123\n",
            "Epoch 7/100\n",
            "13/13 [==============================] - 0s 10ms/step - loss: 0.2172 - accuracy: 0.9523 - val_loss: 0.2155 - val_accuracy: 0.9123\n",
            "Epoch 8/100\n",
            "13/13 [==============================] - 0s 14ms/step - loss: 0.2073 - accuracy: 0.9548 - val_loss: 0.2080 - val_accuracy: 0.9123\n",
            "Epoch 9/100\n",
            "13/13 [==============================] - 0s 20ms/step - loss: 0.1987 - accuracy: 0.9548 - val_loss: 0.2010 - val_accuracy: 0.9123\n",
            "Epoch 10/100\n",
            "13/13 [==============================] - 0s 20ms/step - loss: 0.1911 - accuracy: 0.9548 - val_loss: 0.1949 - val_accuracy: 0.9123\n",
            "Epoch 11/100\n",
            "13/13 [==============================] - 0s 17ms/step - loss: 0.1841 - accuracy: 0.9548 - val_loss: 0.1893 - val_accuracy: 0.9123\n",
            "Epoch 12/100\n",
            "13/13 [==============================] - 0s 17ms/step - loss: 0.1778 - accuracy: 0.9548 - val_loss: 0.1841 - val_accuracy: 0.9181\n",
            "Epoch 13/100\n",
            "13/13 [==============================] - 0s 10ms/step - loss: 0.1722 - accuracy: 0.9548 - val_loss: 0.1794 - val_accuracy: 0.9240\n",
            "Epoch 14/100\n",
            "13/13 [==============================] - 0s 14ms/step - loss: 0.1669 - accuracy: 0.9573 - val_loss: 0.1752 - val_accuracy: 0.9240\n",
            "Epoch 15/100\n",
            "13/13 [==============================] - 0s 12ms/step - loss: 0.1622 - accuracy: 0.9573 - val_loss: 0.1715 - val_accuracy: 0.9298\n",
            "Epoch 16/100\n",
            "13/13 [==============================] - 0s 13ms/step - loss: 0.1580 - accuracy: 0.9573 - val_loss: 0.1677 - val_accuracy: 0.9298\n",
            "Epoch 17/100\n",
            "13/13 [==============================] - 0s 14ms/step - loss: 0.1539 - accuracy: 0.9598 - val_loss: 0.1647 - val_accuracy: 0.9298\n",
            "Epoch 18/100\n",
            "13/13 [==============================] - 0s 10ms/step - loss: 0.1503 - accuracy: 0.9573 - val_loss: 0.1616 - val_accuracy: 0.9298\n",
            "Epoch 19/100\n",
            "13/13 [==============================] - 0s 10ms/step - loss: 0.1468 - accuracy: 0.9573 - val_loss: 0.1585 - val_accuracy: 0.9298\n",
            "Epoch 20/100\n",
            "13/13 [==============================] - 0s 9ms/step - loss: 0.1436 - accuracy: 0.9573 - val_loss: 0.1558 - val_accuracy: 0.9415\n",
            "Epoch 21/100\n",
            "13/13 [==============================] - 0s 11ms/step - loss: 0.1406 - accuracy: 0.9623 - val_loss: 0.1532 - val_accuracy: 0.9415\n",
            "Epoch 22/100\n",
            "13/13 [==============================] - 0s 11ms/step - loss: 0.1378 - accuracy: 0.9623 - val_loss: 0.1507 - val_accuracy: 0.9357\n",
            "Epoch 23/100\n",
            "13/13 [==============================] - 0s 11ms/step - loss: 0.1352 - accuracy: 0.9623 - val_loss: 0.1484 - val_accuracy: 0.9357\n",
            "Epoch 24/100\n",
            "13/13 [==============================] - 0s 13ms/step - loss: 0.1329 - accuracy: 0.9623 - val_loss: 0.1462 - val_accuracy: 0.9357\n",
            "Epoch 25/100\n",
            "13/13 [==============================] - 0s 10ms/step - loss: 0.1306 - accuracy: 0.9623 - val_loss: 0.1444 - val_accuracy: 0.9357\n",
            "Epoch 26/100\n",
            "13/13 [==============================] - 0s 11ms/step - loss: 0.1284 - accuracy: 0.9623 - val_loss: 0.1425 - val_accuracy: 0.9357\n",
            "Epoch 27/100\n",
            "13/13 [==============================] - 0s 8ms/step - loss: 0.1265 - accuracy: 0.9623 - val_loss: 0.1407 - val_accuracy: 0.9357\n",
            "Epoch 28/100\n",
            "13/13 [==============================] - 0s 6ms/step - loss: 0.1245 - accuracy: 0.9648 - val_loss: 0.1390 - val_accuracy: 0.9357\n",
            "Epoch 29/100\n",
            "13/13 [==============================] - 0s 5ms/step - loss: 0.1228 - accuracy: 0.9673 - val_loss: 0.1372 - val_accuracy: 0.9357\n",
            "Epoch 30/100\n",
            "13/13 [==============================] - 0s 5ms/step - loss: 0.1210 - accuracy: 0.9673 - val_loss: 0.1358 - val_accuracy: 0.9357\n",
            "Epoch 31/100\n",
            "13/13 [==============================] - 0s 5ms/step - loss: 0.1194 - accuracy: 0.9673 - val_loss: 0.1344 - val_accuracy: 0.9357\n",
            "Epoch 32/100\n",
            "13/13 [==============================] - 0s 5ms/step - loss: 0.1179 - accuracy: 0.9673 - val_loss: 0.1327 - val_accuracy: 0.9357\n",
            "Epoch 33/100\n",
            "13/13 [==============================] - 0s 5ms/step - loss: 0.1164 - accuracy: 0.9673 - val_loss: 0.1312 - val_accuracy: 0.9357\n",
            "Epoch 34/100\n",
            "13/13 [==============================] - 0s 6ms/step - loss: 0.1150 - accuracy: 0.9673 - val_loss: 0.1298 - val_accuracy: 0.9415\n",
            "Epoch 35/100\n",
            "13/13 [==============================] - 0s 6ms/step - loss: 0.1137 - accuracy: 0.9673 - val_loss: 0.1286 - val_accuracy: 0.9474\n",
            "Epoch 36/100\n",
            "13/13 [==============================] - 0s 5ms/step - loss: 0.1124 - accuracy: 0.9673 - val_loss: 0.1274 - val_accuracy: 0.9474\n",
            "Epoch 37/100\n",
            "13/13 [==============================] - 0s 6ms/step - loss: 0.1112 - accuracy: 0.9673 - val_loss: 0.1264 - val_accuracy: 0.9474\n",
            "Epoch 38/100\n",
            "13/13 [==============================] - 0s 5ms/step - loss: 0.1100 - accuracy: 0.9698 - val_loss: 0.1254 - val_accuracy: 0.9474\n",
            "Epoch 39/100\n",
            "13/13 [==============================] - 0s 5ms/step - loss: 0.1089 - accuracy: 0.9698 - val_loss: 0.1241 - val_accuracy: 0.9474\n",
            "Epoch 40/100\n",
            "13/13 [==============================] - 0s 5ms/step - loss: 0.1078 - accuracy: 0.9698 - val_loss: 0.1233 - val_accuracy: 0.9474\n",
            "Epoch 41/100\n",
            "13/13 [==============================] - 0s 6ms/step - loss: 0.1068 - accuracy: 0.9698 - val_loss: 0.1222 - val_accuracy: 0.9474\n",
            "Epoch 42/100\n",
            "13/13 [==============================] - 0s 5ms/step - loss: 0.1058 - accuracy: 0.9698 - val_loss: 0.1212 - val_accuracy: 0.9474\n",
            "Epoch 43/100\n",
            "13/13 [==============================] - 0s 6ms/step - loss: 0.1049 - accuracy: 0.9724 - val_loss: 0.1202 - val_accuracy: 0.9474\n",
            "Epoch 44/100\n",
            "13/13 [==============================] - 0s 6ms/step - loss: 0.1039 - accuracy: 0.9724 - val_loss: 0.1193 - val_accuracy: 0.9474\n",
            "Epoch 45/100\n",
            "13/13 [==============================] - 0s 6ms/step - loss: 0.1031 - accuracy: 0.9724 - val_loss: 0.1182 - val_accuracy: 0.9474\n",
            "Epoch 46/100\n",
            "13/13 [==============================] - 0s 5ms/step - loss: 0.1022 - accuracy: 0.9724 - val_loss: 0.1175 - val_accuracy: 0.9532\n",
            "Epoch 47/100\n",
            "13/13 [==============================] - 0s 5ms/step - loss: 0.1013 - accuracy: 0.9724 - val_loss: 0.1166 - val_accuracy: 0.9532\n",
            "Epoch 48/100\n",
            "13/13 [==============================] - 0s 5ms/step - loss: 0.1006 - accuracy: 0.9724 - val_loss: 0.1155 - val_accuracy: 0.9532\n",
            "Epoch 49/100\n",
            "13/13 [==============================] - 0s 5ms/step - loss: 0.0998 - accuracy: 0.9724 - val_loss: 0.1147 - val_accuracy: 0.9532\n",
            "Epoch 50/100\n",
            "13/13 [==============================] - 0s 5ms/step - loss: 0.0991 - accuracy: 0.9724 - val_loss: 0.1138 - val_accuracy: 0.9532\n",
            "Epoch 51/100\n",
            "13/13 [==============================] - 0s 6ms/step - loss: 0.0983 - accuracy: 0.9749 - val_loss: 0.1131 - val_accuracy: 0.9532\n",
            "Epoch 52/100\n",
            "13/13 [==============================] - 0s 6ms/step - loss: 0.0976 - accuracy: 0.9749 - val_loss: 0.1124 - val_accuracy: 0.9532\n",
            "Epoch 53/100\n",
            "13/13 [==============================] - 0s 5ms/step - loss: 0.0970 - accuracy: 0.9749 - val_loss: 0.1118 - val_accuracy: 0.9532\n",
            "Epoch 54/100\n",
            "13/13 [==============================] - 0s 7ms/step - loss: 0.0964 - accuracy: 0.9749 - val_loss: 0.1110 - val_accuracy: 0.9532\n",
            "Epoch 55/100\n",
            "13/13 [==============================] - 0s 5ms/step - loss: 0.0957 - accuracy: 0.9749 - val_loss: 0.1103 - val_accuracy: 0.9532\n",
            "Epoch 56/100\n",
            "13/13 [==============================] - 0s 6ms/step - loss: 0.0951 - accuracy: 0.9749 - val_loss: 0.1097 - val_accuracy: 0.9532\n",
            "Epoch 57/100\n",
            "13/13 [==============================] - 0s 5ms/step - loss: 0.0944 - accuracy: 0.9749 - val_loss: 0.1091 - val_accuracy: 0.9532\n",
            "Epoch 58/100\n",
            "13/13 [==============================] - 0s 5ms/step - loss: 0.0938 - accuracy: 0.9749 - val_loss: 0.1085 - val_accuracy: 0.9532\n",
            "Epoch 59/100\n",
            "13/13 [==============================] - 0s 6ms/step - loss: 0.0933 - accuracy: 0.9749 - val_loss: 0.1079 - val_accuracy: 0.9532\n",
            "Epoch 60/100\n",
            "13/13 [==============================] - 0s 6ms/step - loss: 0.0928 - accuracy: 0.9749 - val_loss: 0.1072 - val_accuracy: 0.9532\n",
            "Epoch 61/100\n",
            "13/13 [==============================] - 0s 6ms/step - loss: 0.0922 - accuracy: 0.9749 - val_loss: 0.1067 - val_accuracy: 0.9532\n",
            "Epoch 62/100\n",
            "13/13 [==============================] - 0s 5ms/step - loss: 0.0916 - accuracy: 0.9749 - val_loss: 0.1060 - val_accuracy: 0.9532\n",
            "Epoch 63/100\n",
            "13/13 [==============================] - 0s 5ms/step - loss: 0.0911 - accuracy: 0.9749 - val_loss: 0.1055 - val_accuracy: 0.9532\n",
            "Epoch 64/100\n",
            "13/13 [==============================] - 0s 6ms/step - loss: 0.0906 - accuracy: 0.9749 - val_loss: 0.1051 - val_accuracy: 0.9532\n",
            "Epoch 65/100\n",
            "13/13 [==============================] - 0s 5ms/step - loss: 0.0901 - accuracy: 0.9749 - val_loss: 0.1047 - val_accuracy: 0.9532\n",
            "Epoch 66/100\n",
            "13/13 [==============================] - 0s 6ms/step - loss: 0.0896 - accuracy: 0.9749 - val_loss: 0.1042 - val_accuracy: 0.9532\n",
            "Epoch 67/100\n",
            "13/13 [==============================] - 0s 6ms/step - loss: 0.0891 - accuracy: 0.9749 - val_loss: 0.1038 - val_accuracy: 0.9532\n",
            "Epoch 68/100\n",
            "13/13 [==============================] - 0s 6ms/step - loss: 0.0886 - accuracy: 0.9749 - val_loss: 0.1033 - val_accuracy: 0.9532\n",
            "Epoch 69/100\n",
            "13/13 [==============================] - 0s 6ms/step - loss: 0.0883 - accuracy: 0.9749 - val_loss: 0.1029 - val_accuracy: 0.9532\n",
            "Epoch 70/100\n",
            "13/13 [==============================] - 0s 5ms/step - loss: 0.0877 - accuracy: 0.9749 - val_loss: 0.1022 - val_accuracy: 0.9532\n",
            "Epoch 71/100\n",
            "13/13 [==============================] - 0s 5ms/step - loss: 0.0873 - accuracy: 0.9749 - val_loss: 0.1017 - val_accuracy: 0.9532\n",
            "Epoch 72/100\n",
            "13/13 [==============================] - 0s 6ms/step - loss: 0.0869 - accuracy: 0.9749 - val_loss: 0.1013 - val_accuracy: 0.9591\n",
            "Epoch 73/100\n",
            "13/13 [==============================] - 0s 6ms/step - loss: 0.0865 - accuracy: 0.9749 - val_loss: 0.1008 - val_accuracy: 0.9591\n",
            "Epoch 74/100\n",
            "13/13 [==============================] - 0s 6ms/step - loss: 0.0861 - accuracy: 0.9774 - val_loss: 0.1004 - val_accuracy: 0.9591\n",
            "Epoch 75/100\n",
            "13/13 [==============================] - 0s 6ms/step - loss: 0.0856 - accuracy: 0.9774 - val_loss: 0.1000 - val_accuracy: 0.9591\n",
            "Epoch 76/100\n",
            "13/13 [==============================] - 0s 5ms/step - loss: 0.0853 - accuracy: 0.9774 - val_loss: 0.0997 - val_accuracy: 0.9591\n",
            "Epoch 77/100\n",
            "13/13 [==============================] - 0s 6ms/step - loss: 0.0849 - accuracy: 0.9774 - val_loss: 0.0992 - val_accuracy: 0.9591\n",
            "Epoch 78/100\n",
            "13/13 [==============================] - 0s 6ms/step - loss: 0.0845 - accuracy: 0.9799 - val_loss: 0.0988 - val_accuracy: 0.9591\n",
            "Epoch 79/100\n",
            "13/13 [==============================] - 0s 5ms/step - loss: 0.0842 - accuracy: 0.9799 - val_loss: 0.0984 - val_accuracy: 0.9649\n",
            "Epoch 80/100\n",
            "13/13 [==============================] - 0s 6ms/step - loss: 0.0838 - accuracy: 0.9799 - val_loss: 0.0981 - val_accuracy: 0.9649\n",
            "Epoch 81/100\n",
            "13/13 [==============================] - 0s 5ms/step - loss: 0.0834 - accuracy: 0.9799 - val_loss: 0.0979 - val_accuracy: 0.9649\n",
            "Epoch 82/100\n",
            "13/13 [==============================] - 0s 5ms/step - loss: 0.0831 - accuracy: 0.9799 - val_loss: 0.0976 - val_accuracy: 0.9649\n",
            "Epoch 83/100\n",
            "13/13 [==============================] - 0s 6ms/step - loss: 0.0828 - accuracy: 0.9799 - val_loss: 0.0975 - val_accuracy: 0.9649\n",
            "Epoch 84/100\n",
            "13/13 [==============================] - 0s 6ms/step - loss: 0.0824 - accuracy: 0.9799 - val_loss: 0.0972 - val_accuracy: 0.9649\n",
            "Epoch 85/100\n",
            "13/13 [==============================] - 0s 6ms/step - loss: 0.0821 - accuracy: 0.9799 - val_loss: 0.0968 - val_accuracy: 0.9649\n",
            "Epoch 86/100\n",
            "13/13 [==============================] - 0s 6ms/step - loss: 0.0817 - accuracy: 0.9799 - val_loss: 0.0966 - val_accuracy: 0.9649\n",
            "Epoch 87/100\n",
            "13/13 [==============================] - 0s 5ms/step - loss: 0.0814 - accuracy: 0.9799 - val_loss: 0.0963 - val_accuracy: 0.9649\n",
            "Epoch 88/100\n",
            "13/13 [==============================] - 0s 6ms/step - loss: 0.0811 - accuracy: 0.9799 - val_loss: 0.0960 - val_accuracy: 0.9649\n",
            "Epoch 89/100\n",
            "13/13 [==============================] - 0s 6ms/step - loss: 0.0809 - accuracy: 0.9799 - val_loss: 0.0954 - val_accuracy: 0.9649\n",
            "Epoch 90/100\n",
            "13/13 [==============================] - 0s 6ms/step - loss: 0.0805 - accuracy: 0.9824 - val_loss: 0.0952 - val_accuracy: 0.9649\n",
            "Epoch 91/100\n",
            "13/13 [==============================] - 0s 5ms/step - loss: 0.0802 - accuracy: 0.9824 - val_loss: 0.0951 - val_accuracy: 0.9649\n",
            "Epoch 92/100\n",
            "13/13 [==============================] - 0s 6ms/step - loss: 0.0799 - accuracy: 0.9824 - val_loss: 0.0948 - val_accuracy: 0.9649\n",
            "Epoch 93/100\n",
            "13/13 [==============================] - 0s 6ms/step - loss: 0.0796 - accuracy: 0.9824 - val_loss: 0.0944 - val_accuracy: 0.9649\n",
            "Epoch 94/100\n",
            "13/13 [==============================] - 0s 5ms/step - loss: 0.0793 - accuracy: 0.9849 - val_loss: 0.0941 - val_accuracy: 0.9649\n",
            "Epoch 95/100\n",
            "13/13 [==============================] - 0s 6ms/step - loss: 0.0790 - accuracy: 0.9849 - val_loss: 0.0940 - val_accuracy: 0.9649\n",
            "Epoch 96/100\n",
            "13/13 [==============================] - 0s 5ms/step - loss: 0.0788 - accuracy: 0.9849 - val_loss: 0.0937 - val_accuracy: 0.9649\n",
            "Epoch 97/100\n",
            "13/13 [==============================] - 0s 6ms/step - loss: 0.0785 - accuracy: 0.9849 - val_loss: 0.0935 - val_accuracy: 0.9649\n",
            "Epoch 98/100\n",
            "13/13 [==============================] - 0s 5ms/step - loss: 0.0783 - accuracy: 0.9849 - val_loss: 0.0932 - val_accuracy: 0.9649\n",
            "Epoch 99/100\n",
            "13/13 [==============================] - 0s 5ms/step - loss: 0.0779 - accuracy: 0.9849 - val_loss: 0.0931 - val_accuracy: 0.9649\n",
            "Epoch 100/100\n",
            "13/13 [==============================] - 0s 5ms/step - loss: 0.0777 - accuracy: 0.9849 - val_loss: 0.0929 - val_accuracy: 0.9649\n",
            "13/13 [==============================] - 0s 3ms/step - loss: 0.0775 - accuracy: 0.9849\n",
            "Training score  [0.07751892507076263, 0.9849246144294739]\n",
            "6/6 [==============================] - 0s 3ms/step - loss: 0.0929 - accuracy: 0.9649\n",
            "test score  [0.09289374202489853, 0.9649122953414917]\n"
          ]
        }
      ]
    },
    {
      "cell_type": "code",
      "source": [
        "import matplotlib.pyplot as plt \n",
        "\n",
        "plt.plot(r.history['loss'], label='loss')\n",
        "plt.plot(r.history['val_loss'], label='val_loss')\n",
        "plt.legend()"
      ],
      "metadata": {
        "colab": {
          "base_uri": "https://localhost:8080/",
          "height": 282
        },
        "id": "bUHTRRRS7ted",
        "outputId": "5982fe4c-72f3-4da6-f07d-fb3ad01c5118"
      },
      "execution_count": 38,
      "outputs": [
        {
          "output_type": "execute_result",
          "data": {
            "text/plain": [
              "<matplotlib.legend.Legend at 0x7f33905b2f90>"
            ]
          },
          "metadata": {},
          "execution_count": 38
        },
        {
          "output_type": "display_data",
          "data": {
            "image/png": "[encoded data removed]",
            "text/plain": [
              "<Figure size 432x288 with 1 Axes>"
            ]
          },
          "metadata": {
            "needs_background": "light"
          }
        }
      ]
    },
    {
      "cell_type": "code",
      "source": [
        "plt.plot(r.history['accuracy'], label='Accuracy')\n",
        "plt.plot(r.history['val_accuracy'], label='Val Accuracy')\n",
        "plt.legend()"
      ],
      "metadata": {
        "colab": {
          "base_uri": "https://localhost:8080/",
          "height": 282
        },
        "id": "ju8rCeiq8QJD",
        "outputId": "2c6df3f6-0d54-421e-969c-1e4dbc5b2381"
      },
      "execution_count": 40,
      "outputs": [
        {
          "output_type": "execute_result",
          "data": {
            "text/plain": [
              "<matplotlib.legend.Legend at 0x7f3326186810>"
            ]
          },
          "metadata": {},
          "execution_count": 40
        },
        {
          "output_type": "display_data",
          "data": {
            "image/png": "[encoded data removed]",
            "text/plain": [
              "<Figure size 432x288 with 1 Axes>"
            ]
          },
          "metadata": {
            "needs_background": "light"
          }
        }
      ]
    },
    {
      "cell_type": "code",
      "source": [
        ""
      ],
      "metadata": {
        "id": "5wecAmh08dJz"
      },
      "execution_count": null,
      "outputs": []
    }
  ]
}