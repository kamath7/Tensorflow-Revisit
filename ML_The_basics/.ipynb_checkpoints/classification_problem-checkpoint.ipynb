{
 "cells": [
  {
   "cell_type": "code",
   "execution_count": 1,
   "metadata": {
    "colab": {
     "base_uri": "https://localhost:8080/"
    },
    "id": "E_jMzURt5SNm",
    "outputId": "254fd305-016d-442c-8233-116e7243e1fe"
   },
   "outputs": [
    {
     "name": "stdout",
     "output_type": "stream",
     "text": [
      "2.7.0\n"
     ]
    }
   ],
   "source": [
    "import tensorflow as tf\n",
    "print(tf.__version__)\n"
   ]
  },
  {
   "cell_type": "code",
   "execution_count": 2,
   "metadata": {
    "id": "Io1OP-dJ5WCg"
   },
   "outputs": [],
   "source": [
    "from sklearn.datasets import load_breast_cancer"
   ]
  },
  {
   "cell_type": "code",
   "execution_count": 3,
   "metadata": {
    "colab": {
     "base_uri": "https://localhost:8080/"
    },
    "id": "f0-8LkE35euq",
    "outputId": "7d648db8-ef3c-4180-e910-6a49d048df31"
   },
   "outputs": [
    {
     "data": {
      "text/plain": [
       "sklearn.utils.Bunch"
      ]
     },
     "execution_count": 3,
     "metadata": {},
     "output_type": "execute_result"
    }
   ],
   "source": [
    "data = load_breast_cancer()\n",
    "type(data)\n"
   ]
  },
  {
   "cell_type": "code",
   "execution_count": 4,
   "metadata": {
    "colab": {
     "base_uri": "https://localhost:8080/"
    },
    "id": "f3bQpOFJ5iRe",
    "outputId": "fe7c8892-ec99-47d6-c755-7ada66882300"
   },
   "outputs": [
    {
     "name": "stdout",
     "output_type": "stream",
     "text": [
      "{'data': array([[1.799e+01, 1.038e+01, 1.228e+02, ..., 2.654e-01, 4.601e-01,\n",
      "        1.189e-01],\n",
      "       [2.057e+01, 1.777e+01, 1.329e+02, ..., 1.860e-01, 2.750e-01,\n",
      "        8.902e-02],\n",
      "       [1.969e+01, 2.125e+01, 1.300e+02, ..., 2.430e-01, 3.613e-01,\n",
      "        8.758e-02],\n",
      "       ...,\n",
      "       [1.660e+01, 2.808e+01, 1.083e+02, ..., 1.418e-01, 2.218e-01,\n",
      "        7.820e-02],\n",
      "       [2.060e+01, 2.933e+01, 1.401e+02, ..., 2.650e-01, 4.087e-01,\n",
      "        1.240e-01],\n",
      "       [7.760e+00, 2.454e+01, 4.792e+01, ..., 0.000e+00, 2.871e-01,\n",
      "        7.039e-02]]), 'target': array([0, 0, 0, 0, 0, 0, 0, 0, 0, 0, 0, 0, 0, 0, 0, 0, 0, 0, 0, 1, 1, 1,\n",
      "       0, 0, 0, 0, 0, 0, 0, 0, 0, 0, 0, 0, 0, 0, 0, 1, 0, 0, 0, 0, 0, 0,\n",
      "       0, 0, 1, 0, 1, 1, 1, 1, 1, 0, 0, 1, 0, 0, 1, 1, 1, 1, 0, 1, 0, 0,\n",
      "       1, 1, 1, 1, 0, 1, 0, 0, 1, 0, 1, 0, 0, 1, 1, 1, 0, 0, 1, 0, 0, 0,\n",
      "       1, 1, 1, 0, 1, 1, 0, 0, 1, 1, 1, 0, 0, 1, 1, 1, 1, 0, 1, 1, 0, 1,\n",
      "       1, 1, 1, 1, 1, 1, 1, 0, 0, 0, 1, 0, 0, 1, 1, 1, 0, 0, 1, 0, 1, 0,\n",
      "       0, 1, 0, 0, 1, 1, 0, 1, 1, 0, 1, 1, 1, 1, 0, 1, 1, 1, 1, 1, 1, 1,\n",
      "       1, 1, 0, 1, 1, 1, 1, 0, 0, 1, 0, 1, 1, 0, 0, 1, 1, 0, 0, 1, 1, 1,\n",
      "       1, 0, 1, 1, 0, 0, 0, 1, 0, 1, 0, 1, 1, 1, 0, 1, 1, 0, 0, 1, 0, 0,\n",
      "       0, 0, 1, 0, 0, 0, 1, 0, 1, 0, 1, 1, 0, 1, 0, 0, 0, 0, 1, 1, 0, 0,\n",
      "       1, 1, 1, 0, 1, 1, 1, 1, 1, 0, 0, 1, 1, 0, 1, 1, 0, 0, 1, 0, 1, 1,\n",
      "       1, 1, 0, 1, 1, 1, 1, 1, 0, 1, 0, 0, 0, 0, 0, 0, 0, 0, 0, 0, 0, 0,\n",
      "       0, 0, 1, 1, 1, 1, 1, 1, 0, 1, 0, 1, 1, 0, 1, 1, 0, 1, 0, 0, 1, 1,\n",
      "       1, 1, 1, 1, 1, 1, 1, 1, 1, 1, 1, 0, 1, 1, 0, 1, 0, 1, 1, 1, 1, 1,\n",
      "       1, 1, 1, 1, 1, 1, 1, 1, 1, 0, 1, 1, 1, 0, 1, 0, 1, 1, 1, 1, 0, 0,\n",
      "       0, 1, 1, 1, 1, 0, 1, 0, 1, 0, 1, 1, 1, 0, 1, 1, 1, 1, 1, 1, 1, 0,\n",
      "       0, 0, 1, 1, 1, 1, 1, 1, 1, 1, 1, 1, 1, 0, 0, 1, 0, 0, 0, 1, 0, 0,\n",
      "       1, 1, 1, 1, 1, 0, 1, 1, 1, 1, 1, 0, 1, 1, 1, 0, 1, 1, 0, 0, 1, 1,\n",
      "       1, 1, 1, 1, 0, 1, 1, 1, 1, 1, 1, 1, 0, 1, 1, 1, 1, 1, 0, 1, 1, 0,\n",
      "       1, 1, 1, 1, 1, 1, 1, 1, 1, 1, 1, 1, 0, 1, 0, 0, 1, 0, 1, 1, 1, 1,\n",
      "       1, 0, 1, 1, 0, 1, 0, 1, 1, 0, 1, 0, 1, 1, 1, 1, 1, 1, 1, 1, 0, 0,\n",
      "       1, 1, 1, 1, 1, 1, 0, 1, 1, 1, 1, 1, 1, 1, 1, 1, 1, 0, 1, 1, 1, 1,\n",
      "       1, 1, 1, 0, 1, 0, 1, 1, 0, 1, 1, 1, 1, 1, 0, 0, 1, 0, 1, 0, 1, 1,\n",
      "       1, 1, 1, 0, 1, 1, 0, 1, 0, 1, 0, 0, 1, 1, 1, 0, 1, 1, 1, 1, 1, 1,\n",
      "       1, 1, 1, 1, 1, 0, 1, 0, 0, 1, 1, 1, 1, 1, 1, 1, 1, 1, 1, 1, 1, 1,\n",
      "       1, 1, 1, 1, 1, 1, 1, 1, 1, 1, 1, 1, 0, 0, 0, 0, 0, 0, 1]), 'frame': None, 'target_names': array(['malignant', 'benign'], dtype='<U9'), 'DESCR': '.. _breast_cancer_dataset:\\n\\nBreast cancer wisconsin (diagnostic) dataset\\n--------------------------------------------\\n\\n**Data Set Characteristics:**\\n\\n    :Number of Instances: 569\\n\\n    :Number of Attributes: 30 numeric, predictive attributes and the class\\n\\n    :Attribute Information:\\n        - radius (mean of distances from center to points on the perimeter)\\n        - texture (standard deviation of gray-scale values)\\n        - perimeter\\n        - area\\n        - smoothness (local variation in radius lengths)\\n        - compactness (perimeter^2 / area - 1.0)\\n        - concavity (severity of concave portions of the contour)\\n        - concave points (number of concave portions of the contour)\\n        - symmetry\\n        - fractal dimension (\"coastline approximation\" - 1)\\n\\n        The mean, standard error, and \"worst\" or largest (mean of the three\\n        worst/largest values) of these features were computed for each image,\\n        resulting in 30 features.  For instance, field 0 is Mean Radius, field\\n        10 is Radius SE, field 20 is Worst Radius.\\n\\n        - class:\\n                - WDBC-Malignant\\n                - WDBC-Benign\\n\\n    :Summary Statistics:\\n\\n    ===================================== ====== ======\\n                                           Min    Max\\n    ===================================== ====== ======\\n    radius (mean):                        6.981  28.11\\n    texture (mean):                       9.71   39.28\\n    perimeter (mean):                     43.79  188.5\\n    area (mean):                          143.5  2501.0\\n    smoothness (mean):                    0.053  0.163\\n    compactness (mean):                   0.019  0.345\\n    concavity (mean):                     0.0    0.427\\n    concave points (mean):                0.0    0.201\\n    symmetry (mean):                      0.106  0.304\\n    fractal dimension (mean):             0.05   0.097\\n    radius (standard error):              0.112  2.873\\n    texture (standard error):             0.36   4.885\\n    perimeter (standard error):           0.757  21.98\\n    area (standard error):                6.802  542.2\\n    smoothness (standard error):          0.002  0.031\\n    compactness (standard error):         0.002  0.135\\n    concavity (standard error):           0.0    0.396\\n    concave points (standard error):      0.0    0.053\\n    symmetry (standard error):            0.008  0.079\\n    fractal dimension (standard error):   0.001  0.03\\n    radius (worst):                       7.93   36.04\\n    texture (worst):                      12.02  49.54\\n    perimeter (worst):                    50.41  251.2\\n    area (worst):                         185.2  4254.0\\n    smoothness (worst):                   0.071  0.223\\n    compactness (worst):                  0.027  1.058\\n    concavity (worst):                    0.0    1.252\\n    concave points (worst):               0.0    0.291\\n    symmetry (worst):                     0.156  0.664\\n    fractal dimension (worst):            0.055  0.208\\n    ===================================== ====== ======\\n\\n    :Missing Attribute Values: None\\n\\n    :Class Distribution: 212 - Malignant, 357 - Benign\\n\\n    :Creator:  Dr. William H. Wolberg, W. Nick Street, Olvi L. Mangasarian\\n\\n    :Donor: Nick Street\\n\\n    :Date: November, 1995\\n\\nThis is a copy of UCI ML Breast Cancer Wisconsin (Diagnostic) datasets.\\nhttps://goo.gl/U2Uwz2\\n\\nFeatures are computed from a digitized image of a fine needle\\naspirate (FNA) of a breast mass.  They describe\\ncharacteristics of the cell nuclei present in the image.\\n\\nSeparating plane described above was obtained using\\nMultisurface Method-Tree (MSM-T) [K. P. Bennett, \"Decision Tree\\nConstruction Via Linear Programming.\" Proceedings of the 4th\\nMidwest Artificial Intelligence and Cognitive Science Society,\\npp. 97-101, 1992], a classification method which uses linear\\nprogramming to construct a decision tree.  Relevant features\\nwere selected using an exhaustive search in the space of 1-4\\nfeatures and 1-3 separating planes.\\n\\nThe actual linear program used to obtain the separating plane\\nin the 3-dimensional space is that described in:\\n[K. P. Bennett and O. L. Mangasarian: \"Robust Linear\\nProgramming Discrimination of Two Linearly Inseparable Sets\",\\nOptimization Methods and Software 1, 1992, 23-34].\\n\\nThis database is also available through the UW CS ftp server:\\n\\nftp ftp.cs.wisc.edu\\ncd math-prog/cpo-dataset/machine-learn/WDBC/\\n\\n.. topic:: References\\n\\n   - W.N. Street, W.H. Wolberg and O.L. Mangasarian. Nuclear feature extraction \\n     for breast tumor diagnosis. IS&T/SPIE 1993 International Symposium on \\n     Electronic Imaging: Science and Technology, volume 1905, pages 861-870,\\n     San Jose, CA, 1993.\\n   - O.L. Mangasarian, W.N. Street and W.H. Wolberg. Breast cancer diagnosis and \\n     prognosis via linear programming. Operations Research, 43(4), pages 570-577, \\n     July-August 1995.\\n   - W.H. Wolberg, W.N. Street, and O.L. Mangasarian. Machine learning techniques\\n     to diagnose breast cancer from fine-needle aspirates. Cancer Letters 77 (1994) \\n     163-171.', 'feature_names': array(['mean radius', 'mean texture', 'mean perimeter', 'mean area',\n",
      "       'mean smoothness', 'mean compactness', 'mean concavity',\n",
      "       'mean concave points', 'mean symmetry', 'mean fractal dimension',\n",
      "       'radius error', 'texture error', 'perimeter error', 'area error',\n",
      "       'smoothness error', 'compactness error', 'concavity error',\n",
      "       'concave points error', 'symmetry error',\n",
      "       'fractal dimension error', 'worst radius', 'worst texture',\n",
      "       'worst perimeter', 'worst area', 'worst smoothness',\n",
      "       'worst compactness', 'worst concavity', 'worst concave points',\n",
      "       'worst symmetry', 'worst fractal dimension'], dtype='<U23'), 'filename': 'breast_cancer.csv', 'data_module': 'sklearn.datasets.data'}\n"
     ]
    }
   ],
   "source": [
    "print(data)"
   ]
  },
  {
   "cell_type": "code",
   "execution_count": 5,
   "metadata": {
    "colab": {
     "base_uri": "https://localhost:8080/"
    },
    "id": "yFsNDYY95lGy",
    "outputId": "11135478-2ff4-48ad-beff-ecd6fef5676d"
   },
   "outputs": [
    {
     "name": "stdout",
     "output_type": "stream",
     "text": [
      "dict_keys(['data', 'target', 'frame', 'target_names', 'DESCR', 'feature_names', 'filename', 'data_module'])\n"
     ]
    }
   ],
   "source": [
    "print(data.keys())"
   ]
  },
  {
   "cell_type": "code",
   "execution_count": 6,
   "metadata": {
    "colab": {
     "base_uri": "https://localhost:8080/"
    },
    "id": "2KSrdKlc5on8",
    "outputId": "8dbaec6d-26a7-41ad-c264-9c68372eda90"
   },
   "outputs": [
    {
     "name": "stdout",
     "output_type": "stream",
     "text": [
      "(569, 30)\n"
     ]
    }
   ],
   "source": [
    "print(data.data.shape)"
   ]
  },
  {
   "cell_type": "code",
   "execution_count": 7,
   "metadata": {
    "colab": {
     "base_uri": "https://localhost:8080/"
    },
    "id": "MdEu72SS5uDq",
    "outputId": "fe5bbf0e-1917-4f62-eacd-2741d05ab4ec"
   },
   "outputs": [
    {
     "data": {
      "text/plain": [
       "array([0, 0, 0, 0, 0, 0, 0, 0, 0, 0, 0, 0, 0, 0, 0, 0, 0, 0, 0, 1, 1, 1,\n",
       "       0, 0, 0, 0, 0, 0, 0, 0, 0, 0, 0, 0, 0, 0, 0, 1, 0, 0, 0, 0, 0, 0,\n",
       "       0, 0, 1, 0, 1, 1, 1, 1, 1, 0, 0, 1, 0, 0, 1, 1, 1, 1, 0, 1, 0, 0,\n",
       "       1, 1, 1, 1, 0, 1, 0, 0, 1, 0, 1, 0, 0, 1, 1, 1, 0, 0, 1, 0, 0, 0,\n",
       "       1, 1, 1, 0, 1, 1, 0, 0, 1, 1, 1, 0, 0, 1, 1, 1, 1, 0, 1, 1, 0, 1,\n",
       "       1, 1, 1, 1, 1, 1, 1, 0, 0, 0, 1, 0, 0, 1, 1, 1, 0, 0, 1, 0, 1, 0,\n",
       "       0, 1, 0, 0, 1, 1, 0, 1, 1, 0, 1, 1, 1, 1, 0, 1, 1, 1, 1, 1, 1, 1,\n",
       "       1, 1, 0, 1, 1, 1, 1, 0, 0, 1, 0, 1, 1, 0, 0, 1, 1, 0, 0, 1, 1, 1,\n",
       "       1, 0, 1, 1, 0, 0, 0, 1, 0, 1, 0, 1, 1, 1, 0, 1, 1, 0, 0, 1, 0, 0,\n",
       "       0, 0, 1, 0, 0, 0, 1, 0, 1, 0, 1, 1, 0, 1, 0, 0, 0, 0, 1, 1, 0, 0,\n",
       "       1, 1, 1, 0, 1, 1, 1, 1, 1, 0, 0, 1, 1, 0, 1, 1, 0, 0, 1, 0, 1, 1,\n",
       "       1, 1, 0, 1, 1, 1, 1, 1, 0, 1, 0, 0, 0, 0, 0, 0, 0, 0, 0, 0, 0, 0,\n",
       "       0, 0, 1, 1, 1, 1, 1, 1, 0, 1, 0, 1, 1, 0, 1, 1, 0, 1, 0, 0, 1, 1,\n",
       "       1, 1, 1, 1, 1, 1, 1, 1, 1, 1, 1, 0, 1, 1, 0, 1, 0, 1, 1, 1, 1, 1,\n",
       "       1, 1, 1, 1, 1, 1, 1, 1, 1, 0, 1, 1, 1, 0, 1, 0, 1, 1, 1, 1, 0, 0,\n",
       "       0, 1, 1, 1, 1, 0, 1, 0, 1, 0, 1, 1, 1, 0, 1, 1, 1, 1, 1, 1, 1, 0,\n",
       "       0, 0, 1, 1, 1, 1, 1, 1, 1, 1, 1, 1, 1, 0, 0, 1, 0, 0, 0, 1, 0, 0,\n",
       "       1, 1, 1, 1, 1, 0, 1, 1, 1, 1, 1, 0, 1, 1, 1, 0, 1, 1, 0, 0, 1, 1,\n",
       "       1, 1, 1, 1, 0, 1, 1, 1, 1, 1, 1, 1, 0, 1, 1, 1, 1, 1, 0, 1, 1, 0,\n",
       "       1, 1, 1, 1, 1, 1, 1, 1, 1, 1, 1, 1, 0, 1, 0, 0, 1, 0, 1, 1, 1, 1,\n",
       "       1, 0, 1, 1, 0, 1, 0, 1, 1, 0, 1, 0, 1, 1, 1, 1, 1, 1, 1, 1, 0, 0,\n",
       "       1, 1, 1, 1, 1, 1, 0, 1, 1, 1, 1, 1, 1, 1, 1, 1, 1, 0, 1, 1, 1, 1,\n",
       "       1, 1, 1, 0, 1, 0, 1, 1, 0, 1, 1, 1, 1, 1, 0, 0, 1, 0, 1, 0, 1, 1,\n",
       "       1, 1, 1, 0, 1, 1, 0, 1, 0, 1, 0, 0, 1, 1, 1, 0, 1, 1, 1, 1, 1, 1,\n",
       "       1, 1, 1, 1, 1, 0, 1, 0, 0, 1, 1, 1, 1, 1, 1, 1, 1, 1, 1, 1, 1, 1,\n",
       "       1, 1, 1, 1, 1, 1, 1, 1, 1, 1, 1, 1, 0, 0, 0, 0, 0, 0, 1])"
      ]
     },
     "execution_count": 7,
     "metadata": {},
     "output_type": "execute_result"
    }
   ],
   "source": [
    "data.target #benign and malignant"
   ]
  },
  {
   "cell_type": "code",
   "execution_count": 8,
   "metadata": {
    "colab": {
     "base_uri": "https://localhost:8080/"
    },
    "id": "fVCXa0wN58IL",
    "outputId": "3967891d-53e5-451d-ce27-5368ff1c6abf"
   },
   "outputs": [
    {
     "data": {
      "text/plain": [
       "array(['malignant', 'benign'], dtype='<U9')"
      ]
     },
     "execution_count": 8,
     "metadata": {},
     "output_type": "execute_result"
    }
   ],
   "source": [
    "data.target_names"
   ]
  },
  {
   "cell_type": "code",
   "execution_count": 9,
   "metadata": {
    "colab": {
     "base_uri": "https://localhost:8080/"
    },
    "id": "04r6iQbL5-Ul",
    "outputId": "fed6815c-0676-48c2-fd42-c697cee8b1e9"
   },
   "outputs": [
    {
     "data": {
      "text/plain": [
       "array(['mean radius', 'mean texture', 'mean perimeter', 'mean area',\n",
       "       'mean smoothness', 'mean compactness', 'mean concavity',\n",
       "       'mean concave points', 'mean symmetry', 'mean fractal dimension',\n",
       "       'radius error', 'texture error', 'perimeter error', 'area error',\n",
       "       'smoothness error', 'compactness error', 'concavity error',\n",
       "       'concave points error', 'symmetry error',\n",
       "       'fractal dimension error', 'worst radius', 'worst texture',\n",
       "       'worst perimeter', 'worst area', 'worst smoothness',\n",
       "       'worst compactness', 'worst concavity', 'worst concave points',\n",
       "       'worst symmetry', 'worst fractal dimension'], dtype='<U23')"
      ]
     },
     "execution_count": 9,
     "metadata": {},
     "output_type": "execute_result"
    }
   ],
   "source": [
    "data.feature_names"
   ]
  },
  {
   "cell_type": "code",
   "execution_count": 10,
   "metadata": {
    "id": "ownKi22V6Scf"
   },
   "outputs": [],
   "source": [
    "from sklearn.model_selection import train_test_split\n",
    "\n",
    "X_train, X_test, y_train, y_test = train_test_split(data.data, data.target, test_size=0.30,random_state=0)\n",
    "N,D = X_train.shape"
   ]
  },
  {
   "cell_type": "code",
   "execution_count": 11,
   "metadata": {
    "id": "eYIThp_N6llp"
   },
   "outputs": [],
   "source": [
    "#Scaling\n",
    "from sklearn.preprocessing import StandardScaler\n",
    "sc = StandardScaler()\n",
    "X_train = sc.fit_transform(X_train)\n",
    "X_test = sc.transform(X_test)"
   ]
  },
  {
   "cell_type": "code",
   "execution_count": 12,
   "metadata": {
    "colab": {
     "base_uri": "https://localhost:8080/"
    },
    "id": "B6xTOK0i6rbZ",
    "outputId": "e8adf168-26fe-42b7-841b-1e16dc3c584a"
   },
   "outputs": [
    {
     "data": {
      "text/plain": [
       "array([[-0.74998027, -1.09978744, -0.74158608, ..., -0.6235968 ,\n",
       "         0.07754241,  0.45062841],\n",
       "       [-1.02821446, -0.1392617 , -1.02980434, ..., -0.7612376 ,\n",
       "        -1.07145262, -0.29541379],\n",
       "       [-0.53852228, -0.29934933, -0.56857428, ..., -0.50470441,\n",
       "         0.34900827, -0.13371556],\n",
       "       ...,\n",
       "       [-1.3214733 , -0.20855336, -1.3143845 , ..., -0.98621857,\n",
       "        -0.69108476, -0.13148524],\n",
       "       [-1.24245479, -0.23244704, -1.27759928, ..., -1.7562754 ,\n",
       "        -1.55125275, -1.01078909],\n",
       "       [-0.74441558,  1.13188181, -0.72016173, ..., -0.28490593,\n",
       "        -1.2308599 ,  0.20083251]])"
      ]
     },
     "execution_count": 12,
     "metadata": {},
     "output_type": "execute_result"
    }
   ],
   "source": [
    "X_train"
   ]
  },
  {
   "cell_type": "code",
   "execution_count": 13,
   "metadata": {
    "id": "h2ATzR4D7C5H"
   },
   "outputs": [],
   "source": [
    "#creating a model\n",
    "model = tf.keras.models.Sequential([tf.keras.layers.Input(shape=(D,)), tf.keras.layers.Dense(1, activation=\"sigmoid\")])"
   ]
  },
  {
   "cell_type": "code",
   "execution_count": 14,
   "metadata": {
    "id": "4BraUuvw7W3t"
   },
   "outputs": [],
   "source": [
    "model.compile(optimizer=\"adam\", loss=\"binary_crossentropy\", metrics=['accuracy'])"
   ]
  },
  {
   "cell_type": "code",
   "execution_count": 15,
   "metadata": {
    "colab": {
     "base_uri": "https://localhost:8080/"
    },
    "id": "TEoxHP8C7lTT",
    "outputId": "b769bb12-dc7c-41aa-e947-74652d006c1d"
   },
   "outputs": [
    {
     "name": "stdout",
     "output_type": "stream",
     "text": [
      "Epoch 1/100\n",
      "13/13 [==============================] - 2s 21ms/step - loss: 0.4958 - accuracy: 0.7714 - val_loss: 0.4928 - val_accuracy: 0.7895\n",
      "Epoch 2/100\n",
      "13/13 [==============================] - 0s 7ms/step - loss: 0.4473 - accuracy: 0.8090 - val_loss: 0.4537 - val_accuracy: 0.8129\n",
      "Epoch 3/100\n",
      "13/13 [==============================] - 0s 6ms/step - loss: 0.4087 - accuracy: 0.8543 - val_loss: 0.4205 - val_accuracy: 0.8363\n",
      "Epoch 4/100\n",
      "13/13 [==============================] - 0s 6ms/step - loss: 0.3752 - accuracy: 0.8744 - val_loss: 0.3925 - val_accuracy: 0.8480\n",
      "Epoch 5/100\n",
      "13/13 [==============================] - 0s 8ms/step - loss: 0.3478 - accuracy: 0.8995 - val_loss: 0.3694 - val_accuracy: 0.8538\n",
      "Epoch 6/100\n",
      "13/13 [==============================] - 0s 7ms/step - loss: 0.3250 - accuracy: 0.9095 - val_loss: 0.3494 - val_accuracy: 0.8538\n",
      "Epoch 7/100\n",
      "13/13 [==============================] - 0s 6ms/step - loss: 0.3054 - accuracy: 0.9171 - val_loss: 0.3319 - val_accuracy: 0.8713\n",
      "Epoch 8/100\n",
      "13/13 [==============================] - 0s 7ms/step - loss: 0.2880 - accuracy: 0.9246 - val_loss: 0.3169 - val_accuracy: 0.8889\n",
      "Epoch 9/100\n",
      "13/13 [==============================] - 0s 6ms/step - loss: 0.2732 - accuracy: 0.9347 - val_loss: 0.3038 - val_accuracy: 0.8947\n",
      "Epoch 10/100\n",
      "13/13 [==============================] - 0s 6ms/step - loss: 0.2602 - accuracy: 0.9347 - val_loss: 0.2921 - val_accuracy: 0.9006\n",
      "Epoch 11/100\n",
      "13/13 [==============================] - 0s 6ms/step - loss: 0.2486 - accuracy: 0.9397 - val_loss: 0.2815 - val_accuracy: 0.9006\n",
      "Epoch 12/100\n",
      "13/13 [==============================] - 0s 7ms/step - loss: 0.2384 - accuracy: 0.9447 - val_loss: 0.2713 - val_accuracy: 0.9006\n",
      "Epoch 13/100\n",
      "13/13 [==============================] - 0s 6ms/step - loss: 0.2291 - accuracy: 0.9472 - val_loss: 0.2622 - val_accuracy: 0.9006\n",
      "Epoch 14/100\n",
      "13/13 [==============================] - 0s 7ms/step - loss: 0.2205 - accuracy: 0.9472 - val_loss: 0.2544 - val_accuracy: 0.9006\n",
      "Epoch 15/100\n",
      "13/13 [==============================] - 0s 6ms/step - loss: 0.2128 - accuracy: 0.9472 - val_loss: 0.2471 - val_accuracy: 0.9064\n",
      "Epoch 16/100\n",
      "13/13 [==============================] - 0s 7ms/step - loss: 0.2059 - accuracy: 0.9573 - val_loss: 0.2403 - val_accuracy: 0.9123\n",
      "Epoch 17/100\n",
      "13/13 [==============================] - 0s 6ms/step - loss: 0.1995 - accuracy: 0.9573 - val_loss: 0.2342 - val_accuracy: 0.9123\n",
      "Epoch 18/100\n",
      "13/13 [==============================] - 0s 10ms/step - loss: 0.1937 - accuracy: 0.9573 - val_loss: 0.2285 - val_accuracy: 0.9181\n",
      "Epoch 19/100\n",
      "13/13 [==============================] - 0s 7ms/step - loss: 0.1883 - accuracy: 0.9573 - val_loss: 0.2230 - val_accuracy: 0.9240\n",
      "Epoch 20/100\n",
      "13/13 [==============================] - 0s 6ms/step - loss: 0.1834 - accuracy: 0.9573 - val_loss: 0.2177 - val_accuracy: 0.9240\n",
      "Epoch 21/100\n",
      "13/13 [==============================] - 0s 6ms/step - loss: 0.1787 - accuracy: 0.9598 - val_loss: 0.2130 - val_accuracy: 0.9240\n",
      "Epoch 22/100\n",
      "13/13 [==============================] - 0s 6ms/step - loss: 0.1744 - accuracy: 0.9573 - val_loss: 0.2084 - val_accuracy: 0.9240\n",
      "Epoch 23/100\n",
      "13/13 [==============================] - 0s 7ms/step - loss: 0.1705 - accuracy: 0.9573 - val_loss: 0.2039 - val_accuracy: 0.9298\n",
      "Epoch 24/100\n",
      "13/13 [==============================] - 0s 6ms/step - loss: 0.1666 - accuracy: 0.9573 - val_loss: 0.2001 - val_accuracy: 0.9357\n",
      "Epoch 25/100\n",
      "13/13 [==============================] - 0s 7ms/step - loss: 0.1631 - accuracy: 0.9623 - val_loss: 0.1965 - val_accuracy: 0.9357\n",
      "Epoch 26/100\n",
      "13/13 [==============================] - 0s 6ms/step - loss: 0.1599 - accuracy: 0.9598 - val_loss: 0.1928 - val_accuracy: 0.9415\n",
      "Epoch 27/100\n",
      "13/13 [==============================] - 0s 6ms/step - loss: 0.1569 - accuracy: 0.9623 - val_loss: 0.1894 - val_accuracy: 0.9415\n",
      "Epoch 28/100\n",
      "13/13 [==============================] - 0s 7ms/step - loss: 0.1539 - accuracy: 0.9648 - val_loss: 0.1863 - val_accuracy: 0.9474\n",
      "Epoch 29/100\n",
      "13/13 [==============================] - 0s 7ms/step - loss: 0.1512 - accuracy: 0.9648 - val_loss: 0.1833 - val_accuracy: 0.9532\n",
      "Epoch 30/100\n",
      "13/13 [==============================] - 0s 7ms/step - loss: 0.1485 - accuracy: 0.9648 - val_loss: 0.1803 - val_accuracy: 0.9532\n",
      "Epoch 31/100\n",
      "13/13 [==============================] - 0s 6ms/step - loss: 0.1460 - accuracy: 0.9648 - val_loss: 0.1777 - val_accuracy: 0.9532\n",
      "Epoch 32/100\n",
      "13/13 [==============================] - 0s 6ms/step - loss: 0.1438 - accuracy: 0.9673 - val_loss: 0.1750 - val_accuracy: 0.9532\n",
      "Epoch 33/100\n",
      "13/13 [==============================] - 0s 7ms/step - loss: 0.1416 - accuracy: 0.9673 - val_loss: 0.1723 - val_accuracy: 0.9532\n",
      "Epoch 34/100\n",
      "13/13 [==============================] - 0s 6ms/step - loss: 0.1394 - accuracy: 0.9698 - val_loss: 0.1700 - val_accuracy: 0.9532\n",
      "Epoch 35/100\n",
      "13/13 [==============================] - 0s 7ms/step - loss: 0.1374 - accuracy: 0.9698 - val_loss: 0.1676 - val_accuracy: 0.9532\n",
      "Epoch 36/100\n",
      "13/13 [==============================] - 0s 6ms/step - loss: 0.1354 - accuracy: 0.9698 - val_loss: 0.1654 - val_accuracy: 0.9532\n",
      "Epoch 37/100\n",
      "13/13 [==============================] - 0s 7ms/step - loss: 0.1336 - accuracy: 0.9698 - val_loss: 0.1631 - val_accuracy: 0.9532\n",
      "Epoch 38/100\n",
      "13/13 [==============================] - 0s 6ms/step - loss: 0.1319 - accuracy: 0.9698 - val_loss: 0.1608 - val_accuracy: 0.9532\n",
      "Epoch 39/100\n",
      "13/13 [==============================] - 0s 7ms/step - loss: 0.1302 - accuracy: 0.9698 - val_loss: 0.1587 - val_accuracy: 0.9532\n",
      "Epoch 40/100\n",
      "13/13 [==============================] - 0s 6ms/step - loss: 0.1286 - accuracy: 0.9698 - val_loss: 0.1568 - val_accuracy: 0.9532\n",
      "Epoch 41/100\n",
      "13/13 [==============================] - 0s 8ms/step - loss: 0.1271 - accuracy: 0.9698 - val_loss: 0.1551 - val_accuracy: 0.9532\n",
      "Epoch 42/100\n",
      "13/13 [==============================] - 0s 7ms/step - loss: 0.1257 - accuracy: 0.9698 - val_loss: 0.1533 - val_accuracy: 0.9532\n",
      "Epoch 43/100\n",
      "13/13 [==============================] - 0s 14ms/step - loss: 0.1242 - accuracy: 0.9698 - val_loss: 0.1517 - val_accuracy: 0.9532\n",
      "Epoch 44/100\n",
      "13/13 [==============================] - 0s 14ms/step - loss: 0.1230 - accuracy: 0.9673 - val_loss: 0.1497 - val_accuracy: 0.9532\n",
      "Epoch 45/100\n",
      "13/13 [==============================] - 0s 15ms/step - loss: 0.1216 - accuracy: 0.9698 - val_loss: 0.1482 - val_accuracy: 0.9532\n",
      "Epoch 46/100\n",
      "13/13 [==============================] - 0s 15ms/step - loss: 0.1204 - accuracy: 0.9698 - val_loss: 0.1467 - val_accuracy: 0.9532\n",
      "Epoch 47/100\n",
      "13/13 [==============================] - 0s 17ms/step - loss: 0.1192 - accuracy: 0.9698 - val_loss: 0.1452 - val_accuracy: 0.9532\n",
      "Epoch 48/100\n",
      "13/13 [==============================] - 0s 16ms/step - loss: 0.1180 - accuracy: 0.9698 - val_loss: 0.1438 - val_accuracy: 0.9532\n",
      "Epoch 49/100\n",
      "13/13 [==============================] - 0s 14ms/step - loss: 0.1168 - accuracy: 0.9698 - val_loss: 0.1424 - val_accuracy: 0.9532\n",
      "Epoch 50/100\n",
      "13/13 [==============================] - 0s 17ms/step - loss: 0.1158 - accuracy: 0.9724 - val_loss: 0.1408 - val_accuracy: 0.9532\n",
      "Epoch 51/100\n",
      "13/13 [==============================] - 0s 14ms/step - loss: 0.1146 - accuracy: 0.9698 - val_loss: 0.1396 - val_accuracy: 0.9532\n",
      "Epoch 52/100\n",
      "13/13 [==============================] - 0s 12ms/step - loss: 0.1137 - accuracy: 0.9724 - val_loss: 0.1384 - val_accuracy: 0.9532\n",
      "Epoch 53/100\n",
      "13/13 [==============================] - 0s 11ms/step - loss: 0.1127 - accuracy: 0.9724 - val_loss: 0.1369 - val_accuracy: 0.9532\n",
      "Epoch 54/100\n",
      "13/13 [==============================] - 0s 14ms/step - loss: 0.1117 - accuracy: 0.9698 - val_loss: 0.1357 - val_accuracy: 0.9532\n",
      "Epoch 55/100\n",
      "13/13 [==============================] - 0s 10ms/step - loss: 0.1107 - accuracy: 0.9724 - val_loss: 0.1346 - val_accuracy: 0.9532\n",
      "Epoch 56/100\n",
      "13/13 [==============================] - 0s 14ms/step - loss: 0.1099 - accuracy: 0.9749 - val_loss: 0.1335 - val_accuracy: 0.9591\n",
      "Epoch 57/100\n",
      "13/13 [==============================] - 0s 13ms/step - loss: 0.1091 - accuracy: 0.9724 - val_loss: 0.1321 - val_accuracy: 0.9591\n",
      "Epoch 58/100\n",
      "13/13 [==============================] - 0s 13ms/step - loss: 0.1082 - accuracy: 0.9724 - val_loss: 0.1312 - val_accuracy: 0.9591\n",
      "Epoch 59/100\n",
      "13/13 [==============================] - 0s 12ms/step - loss: 0.1073 - accuracy: 0.9724 - val_loss: 0.1300 - val_accuracy: 0.9591\n",
      "Epoch 60/100\n",
      "13/13 [==============================] - 0s 10ms/step - loss: 0.1065 - accuracy: 0.9724 - val_loss: 0.1290 - val_accuracy: 0.9591\n",
      "Epoch 61/100\n",
      "13/13 [==============================] - 0s 17ms/step - loss: 0.1058 - accuracy: 0.9724 - val_loss: 0.1280 - val_accuracy: 0.9591\n",
      "Epoch 62/100\n",
      "13/13 [==============================] - 0s 10ms/step - loss: 0.1050 - accuracy: 0.9724 - val_loss: 0.1270 - val_accuracy: 0.9591\n",
      "Epoch 63/100\n",
      "13/13 [==============================] - 0s 12ms/step - loss: 0.1042 - accuracy: 0.9724 - val_loss: 0.1261 - val_accuracy: 0.9591\n",
      "Epoch 64/100\n",
      "13/13 [==============================] - 0s 14ms/step - loss: 0.1035 - accuracy: 0.9724 - val_loss: 0.1251 - val_accuracy: 0.9649\n",
      "Epoch 65/100\n",
      "13/13 [==============================] - 0s 14ms/step - loss: 0.1028 - accuracy: 0.9724 - val_loss: 0.1242 - val_accuracy: 0.9591\n",
      "Epoch 66/100\n",
      "13/13 [==============================] - 0s 11ms/step - loss: 0.1022 - accuracy: 0.9724 - val_loss: 0.1233 - val_accuracy: 0.9649\n",
      "Epoch 67/100\n",
      "13/13 [==============================] - 0s 12ms/step - loss: 0.1015 - accuracy: 0.9724 - val_loss: 0.1225 - val_accuracy: 0.9649\n",
      "Epoch 68/100\n",
      "13/13 [==============================] - 0s 18ms/step - loss: 0.1009 - accuracy: 0.9724 - val_loss: 0.1216 - val_accuracy: 0.9649\n",
      "Epoch 69/100\n",
      "13/13 [==============================] - 0s 10ms/step - loss: 0.1003 - accuracy: 0.9724 - val_loss: 0.1208 - val_accuracy: 0.9649\n",
      "Epoch 70/100\n",
      "13/13 [==============================] - 0s 16ms/step - loss: 0.0996 - accuracy: 0.9724 - val_loss: 0.1200 - val_accuracy: 0.9649\n",
      "Epoch 71/100\n",
      "13/13 [==============================] - 0s 16ms/step - loss: 0.0990 - accuracy: 0.9724 - val_loss: 0.1194 - val_accuracy: 0.9649\n",
      "Epoch 72/100\n",
      "13/13 [==============================] - 0s 15ms/step - loss: 0.0985 - accuracy: 0.9749 - val_loss: 0.1186 - val_accuracy: 0.9649\n",
      "Epoch 73/100\n",
      "13/13 [==============================] - 0s 11ms/step - loss: 0.0979 - accuracy: 0.9724 - val_loss: 0.1177 - val_accuracy: 0.9649\n",
      "Epoch 74/100\n",
      "13/13 [==============================] - 0s 12ms/step - loss: 0.0973 - accuracy: 0.9724 - val_loss: 0.1169 - val_accuracy: 0.9649\n",
      "Epoch 75/100\n",
      "13/13 [==============================] - 0s 16ms/step - loss: 0.0968 - accuracy: 0.9724 - val_loss: 0.1160 - val_accuracy: 0.9649\n",
      "Epoch 76/100\n",
      "13/13 [==============================] - 0s 20ms/step - loss: 0.0962 - accuracy: 0.9724 - val_loss: 0.1154 - val_accuracy: 0.9649\n",
      "Epoch 77/100\n",
      "13/13 [==============================] - 0s 13ms/step - loss: 0.0957 - accuracy: 0.9749 - val_loss: 0.1147 - val_accuracy: 0.9649\n",
      "Epoch 78/100\n",
      "13/13 [==============================] - 0s 12ms/step - loss: 0.0952 - accuracy: 0.9774 - val_loss: 0.1140 - val_accuracy: 0.9649\n",
      "Epoch 79/100\n",
      "13/13 [==============================] - 0s 14ms/step - loss: 0.0947 - accuracy: 0.9774 - val_loss: 0.1134 - val_accuracy: 0.9649\n",
      "Epoch 80/100\n",
      "13/13 [==============================] - 0s 12ms/step - loss: 0.0942 - accuracy: 0.9774 - val_loss: 0.1126 - val_accuracy: 0.9649\n",
      "Epoch 81/100\n",
      "13/13 [==============================] - 0s 11ms/step - loss: 0.0937 - accuracy: 0.9774 - val_loss: 0.1119 - val_accuracy: 0.9649\n",
      "Epoch 82/100\n",
      "13/13 [==============================] - 0s 18ms/step - loss: 0.0933 - accuracy: 0.9774 - val_loss: 0.1114 - val_accuracy: 0.9649\n",
      "Epoch 83/100\n",
      "13/13 [==============================] - 0s 11ms/step - loss: 0.0928 - accuracy: 0.9774 - val_loss: 0.1107 - val_accuracy: 0.9649\n",
      "Epoch 84/100\n",
      "13/13 [==============================] - 0s 17ms/step - loss: 0.0924 - accuracy: 0.9774 - val_loss: 0.1101 - val_accuracy: 0.9649\n",
      "Epoch 85/100\n",
      "13/13 [==============================] - 0s 12ms/step - loss: 0.0919 - accuracy: 0.9774 - val_loss: 0.1096 - val_accuracy: 0.9649\n",
      "Epoch 86/100\n",
      "13/13 [==============================] - 0s 14ms/step - loss: 0.0915 - accuracy: 0.9799 - val_loss: 0.1091 - val_accuracy: 0.9649\n",
      "Epoch 87/100\n",
      "13/13 [==============================] - 0s 14ms/step - loss: 0.0911 - accuracy: 0.9824 - val_loss: 0.1085 - val_accuracy: 0.9649\n",
      "Epoch 88/100\n",
      "13/13 [==============================] - 0s 11ms/step - loss: 0.0907 - accuracy: 0.9824 - val_loss: 0.1080 - val_accuracy: 0.9649\n",
      "Epoch 89/100\n",
      "13/13 [==============================] - 0s 12ms/step - loss: 0.0903 - accuracy: 0.9824 - val_loss: 0.1075 - val_accuracy: 0.9649\n",
      "Epoch 90/100\n",
      "13/13 [==============================] - 0s 15ms/step - loss: 0.0899 - accuracy: 0.9824 - val_loss: 0.1070 - val_accuracy: 0.9649\n",
      "Epoch 91/100\n",
      "13/13 [==============================] - 0s 12ms/step - loss: 0.0895 - accuracy: 0.9824 - val_loss: 0.1067 - val_accuracy: 0.9649\n",
      "Epoch 92/100\n",
      "13/13 [==============================] - 0s 20ms/step - loss: 0.0891 - accuracy: 0.9824 - val_loss: 0.1063 - val_accuracy: 0.9708\n",
      "Epoch 93/100\n",
      "13/13 [==============================] - 0s 13ms/step - loss: 0.0887 - accuracy: 0.9824 - val_loss: 0.1058 - val_accuracy: 0.9708\n",
      "Epoch 94/100\n",
      "13/13 [==============================] - 0s 12ms/step - loss: 0.0884 - accuracy: 0.9824 - val_loss: 0.1054 - val_accuracy: 0.9708\n",
      "Epoch 95/100\n",
      "13/13 [==============================] - 0s 13ms/step - loss: 0.0880 - accuracy: 0.9824 - val_loss: 0.1050 - val_accuracy: 0.9708\n",
      "Epoch 96/100\n",
      "13/13 [==============================] - 0s 14ms/step - loss: 0.0876 - accuracy: 0.9824 - val_loss: 0.1045 - val_accuracy: 0.9708\n",
      "Epoch 97/100\n",
      "13/13 [==============================] - 0s 10ms/step - loss: 0.0873 - accuracy: 0.9824 - val_loss: 0.1041 - val_accuracy: 0.9708\n",
      "Epoch 98/100\n",
      "13/13 [==============================] - 0s 13ms/step - loss: 0.0870 - accuracy: 0.9824 - val_loss: 0.1036 - val_accuracy: 0.9708\n",
      "Epoch 99/100\n",
      "13/13 [==============================] - 0s 15ms/step - loss: 0.0866 - accuracy: 0.9824 - val_loss: 0.1032 - val_accuracy: 0.9708\n",
      "Epoch 100/100\n",
      "13/13 [==============================] - 0s 11ms/step - loss: 0.0863 - accuracy: 0.9824 - val_loss: 0.1028 - val_accuracy: 0.9708\n",
      "13/13 [==============================] - 0s 5ms/step - loss: 0.0860 - accuracy: 0.9824\n",
      "Training score  [0.08604814857244492, 0.9824120402336121]\n",
      "6/6 [==============================] - 0s 5ms/step - loss: 0.1028 - accuracy: 0.9708\n",
      "test score  [0.10277383029460907, 0.9707602262496948]\n"
     ]
    }
   ],
   "source": [
    "r = model.fit(X_train, y_train, validation_data=(X_test, y_test), epochs=100)\n",
    "print(\"Training score \", model.evaluate(X_train, y_train))\n",
    "print(\"test score \", model.evaluate(X_test, y_test))\n"
   ]
  },
  {
   "cell_type": "code",
   "execution_count": 16,
   "metadata": {
    "colab": {
     "base_uri": "https://localhost:8080/",
     "height": 282
    },
    "id": "bUHTRRRS7ted",
    "outputId": "9dd8f460-da90-4dee-f48b-728355b2dc30"
   },
   "outputs": [
    {
     "data": {
      "text/plain": [
       "<matplotlib.legend.Legend at 0x7fd9207cd250>"
      ]
     },
     "execution_count": 16,
     "metadata": {},
     "output_type": "execute_result"
    },
    {
     "data": {
      "image/png": "[encoded data removed]",
      "text/plain": [
       "<Figure size 432x288 with 1 Axes>"
      ]
     },
     "metadata": {
      "needs_background": "light"
     },
     "output_type": "display_data"
    }
   ],
   "source": [
    "import matplotlib.pyplot as plt \n",
    "\n",
    "plt.plot(r.history['loss'], label='loss')\n",
    "plt.plot(r.history['val_loss'], label='val_loss')\n",
    "plt.legend()"
   ]
  },
  {
   "cell_type": "code",
   "execution_count": 17,
   "metadata": {
    "colab": {
     "base_uri": "https://localhost:8080/",
     "height": 282
    },
    "id": "ju8rCeiq8QJD",
    "outputId": "7619fc8b-e6c7-430e-905d-6fddf62c8b4d"
   },
   "outputs": [
    {
     "data": {
      "text/plain": [
       "<matplotlib.legend.Legend at 0x7fd9204a6690>"
      ]
     },
     "execution_count": 17,
     "metadata": {},
     "output_type": "execute_result"
    },
    {
     "data": {
      "image/png": "[encoded data removed]",
      "text/plain": [
       "<Figure size 432x288 with 1 Axes>"
      ]
     },
     "metadata": {
      "needs_background": "light"
     },
     "output_type": "display_data"
    }
   ],
   "source": [
    "plt.plot(r.history['accuracy'], label='Accuracy')\n",
    "plt.plot(r.history['val_accuracy'], label='Val Accuracy')\n",
    "plt.legend()"
   ]
  },
  {
   "cell_type": "code",
   "execution_count": 19,
   "metadata": {
    "colab": {
     "base_uri": "https://localhost:8080/"
    },
    "id": "5wecAmh08dJz",
    "outputId": "3a7c1774-2f8e-413f-e3ed-e966c2d02cd7"
   },
   "outputs": [
    {
     "name": "stdout",
     "output_type": "stream",
     "text": [
      "[[3.83775532e-02]\n",
      " [9.17174101e-01]\n",
      " [9.94739473e-01]\n",
      " [9.78052974e-01]\n",
      " [9.94236290e-01]\n",
      " [9.81799304e-01]\n",
      " [9.94466007e-01]\n",
      " [9.90948737e-01]\n",
      " [9.99697089e-01]\n",
      " [9.99831080e-01]\n",
      " [7.23950684e-01]\n",
      " [8.22423041e-01]\n",
      " [9.99557555e-01]\n",
      " [5.60756266e-01]\n",
      " [5.44883609e-01]\n",
      " [3.19289006e-02]\n",
      " [9.86568332e-01]\n",
      " [3.77194636e-04]\n",
      " [1.77671958e-03]\n",
      " [8.63667810e-06]\n",
      " [2.05376074e-02]\n",
      " [2.61601489e-02]\n",
      " [9.29850578e-01]\n",
      " [9.92608726e-01]\n",
      " [4.62837331e-03]\n",
      " [9.96309817e-01]\n",
      " [9.99529362e-01]\n",
      " [1.33269727e-02]\n",
      " [9.90491152e-01]\n",
      " [3.98142118e-04]\n",
      " [9.99575675e-01]\n",
      " [1.08036194e-02]\n",
      " [7.94525802e-01]\n",
      " [1.98279843e-02]\n",
      " [9.99886036e-01]\n",
      " [2.72495560e-02]\n",
      " [9.75484431e-01]\n",
      " [1.67256836e-02]\n",
      " [9.67837453e-01]\n",
      " [2.67357714e-02]\n",
      " [2.23710507e-01]\n",
      " [9.99752343e-01]\n",
      " [2.87300676e-01]\n",
      " [9.99210238e-01]\n",
      " [7.30653167e-01]\n",
      " [1.78650444e-05]\n",
      " [9.99970794e-01]\n",
      " [9.55476284e-01]\n",
      " [9.88425255e-01]\n",
      " [8.55332764e-04]\n",
      " [1.63834527e-04]\n",
      " [8.76631737e-02]\n",
      " [3.18242772e-03]\n",
      " [9.91036892e-01]\n",
      " [9.84742880e-01]\n",
      " [9.97324228e-01]\n",
      " [9.93005455e-01]\n",
      " [9.55820739e-01]\n",
      " [9.83688474e-01]\n",
      " [4.02232308e-06]\n",
      " [5.60538098e-02]\n",
      " [6.12605363e-02]\n",
      " [9.99582946e-01]\n",
      " [9.71360743e-01]\n",
      " [2.75691180e-03]\n",
      " [8.43502283e-01]\n",
      " [4.60773286e-09]\n",
      " [1.60649637e-04]\n",
      " [2.24292948e-04]\n",
      " [9.94909227e-01]\n",
      " [6.54047191e-01]\n",
      " [6.83740829e-04]\n",
      " [9.90235746e-01]\n",
      " [4.87969637e-01]\n",
      " [1.85504468e-04]\n",
      " [9.59116459e-01]\n",
      " [9.99475896e-01]\n",
      " [8.30860615e-01]\n",
      " [9.98595655e-01]\n",
      " [9.99798596e-01]\n",
      " [8.09537321e-02]\n",
      " [1.44604300e-07]\n",
      " [8.78621533e-04]\n",
      " [9.98777211e-01]\n",
      " [1.01773396e-01]\n",
      " [9.93685067e-01]\n",
      " [9.99003708e-01]\n",
      " [9.99835849e-01]\n",
      " [7.35687418e-03]\n",
      " [3.13647810e-08]\n",
      " [9.99768555e-01]\n",
      " [4.86054480e-01]\n",
      " [3.78499240e-01]\n",
      " [5.08344892e-05]\n",
      " [9.93134141e-01]\n",
      " [9.87582445e-01]\n",
      " [1.18517899e-04]\n",
      " [8.97767425e-01]\n",
      " [9.80710566e-01]\n",
      " [9.86206353e-01]\n",
      " [9.99997258e-01]\n",
      " [9.85209286e-01]\n",
      " [9.56487954e-01]\n",
      " [6.61606550e-01]\n",
      " [1.49769697e-03]\n",
      " [9.87113357e-01]\n",
      " [4.92368708e-05]\n",
      " [7.50928640e-01]\n",
      " [7.49635756e-01]\n",
      " [9.46214736e-01]\n",
      " [9.30363119e-01]\n",
      " [7.24846788e-04]\n",
      " [2.78762006e-03]\n",
      " [8.50549817e-01]\n",
      " [9.93879080e-01]\n",
      " [9.67794895e-01]\n",
      " [8.22290957e-01]\n",
      " [9.92916822e-01]\n",
      " [9.60864007e-01]\n",
      " [9.85048592e-01]\n",
      " [9.95047688e-01]\n",
      " [9.86518800e-01]\n",
      " [1.47753106e-02]\n",
      " [9.39293563e-01]\n",
      " [3.71412352e-05]\n",
      " [8.73021781e-01]\n",
      " [7.87358999e-01]\n",
      " [9.97871995e-01]\n",
      " [9.99222994e-01]\n",
      " [9.99499202e-01]\n",
      " [6.63469499e-03]\n",
      " [9.99308348e-01]\n",
      " [9.96795833e-01]\n",
      " [4.67877746e-01]\n",
      " [8.93906593e-01]\n",
      " [9.99413371e-01]\n",
      " [6.42507136e-01]\n",
      " [6.03366375e-01]\n",
      " [2.26958576e-07]\n",
      " [9.97909844e-01]\n",
      " [9.92043197e-01]\n",
      " [9.91667449e-01]\n",
      " [8.01394253e-06]\n",
      " [9.87309754e-01]\n",
      " [9.93396103e-01]\n",
      " [1.34907707e-04]\n",
      " [9.85996544e-01]\n",
      " [2.25228488e-01]\n",
      " [9.93441224e-01]\n",
      " [9.89458084e-01]\n",
      " [9.87726867e-01]\n",
      " [7.17879176e-01]\n",
      " [8.86170030e-01]\n",
      " [6.06140971e-01]\n",
      " [9.97716308e-01]\n",
      " [1.82476211e-02]\n",
      " [9.77327824e-01]\n",
      " [2.11152643e-01]\n",
      " [9.97781217e-01]\n",
      " [1.21024542e-03]\n",
      " [8.12548315e-05]\n",
      " [9.96489942e-01]\n",
      " [9.71617579e-01]\n",
      " [1.00592747e-02]\n",
      " [9.95049417e-01]\n",
      " [3.04129603e-03]\n",
      " [1.00396171e-01]\n",
      " [9.35968291e-03]\n",
      " [8.75739515e-01]\n",
      " [9.59484816e-01]\n",
      " [9.99414921e-01]]\n"
     ]
    }
   ],
   "source": [
    "# Making Predictions\n",
    "\n",
    "P = model.predict(X_test)\n",
    "print(p)"
   ]
  },
  {
   "cell_type": "code",
   "execution_count": 22,
   "metadata": {
    "id": "Q3quBg4ryq7-"
   },
   "outputs": [],
   "source": [
    "import numpy as np \n",
    "p = np.round(p).flatten()\n",
    "#converting to 1D Array"
   ]
  },
  {
   "cell_type": "code",
   "execution_count": 23,
   "metadata": {
    "colab": {
     "base_uri": "https://localhost:8080/"
    },
    "id": "bgUE57xNy378",
    "outputId": "409c83be-c836-46fd-b703-dd4e727a9b98"
   },
   "outputs": [
    {
     "name": "stdout",
     "output_type": "stream",
     "text": [
      "[0. 1. 1. 1. 1. 1. 1. 1. 1. 1. 1. 1. 1. 1. 1. 0. 1. 0. 0. 0. 0. 0. 1. 1.\n",
      " 0. 1. 1. 0. 1. 0. 1. 0. 1. 0. 1. 0. 1. 0. 1. 0. 0. 1. 0. 1. 1. 0. 1. 1.\n",
      " 1. 0. 0. 0. 0. 1. 1. 1. 1. 1. 1. 0. 0. 0. 1. 1. 0. 1. 0. 0. 0. 1. 1. 0.\n",
      " 1. 0. 0. 1. 1. 1. 1. 1. 0. 0. 0. 1. 0. 1. 1. 1. 0. 0. 1. 0. 0. 0. 1. 1.\n",
      " 0. 1. 1. 1. 1. 1. 1. 1. 0. 1. 0. 1. 1. 1. 1. 0. 0. 1. 1. 1. 1. 1. 1. 1.\n",
      " 1. 1. 0. 1. 0. 1. 1. 1. 1. 1. 0. 1. 1. 0. 1. 1. 1. 1. 0. 1. 1. 1. 0. 1.\n",
      " 1. 0. 1. 0. 1. 1. 1. 1. 1. 1. 1. 0. 1. 0. 1. 0. 0. 1. 1. 0. 1. 0. 0. 0.\n",
      " 1. 1. 1.]\n"
     ]
    }
   ],
   "source": [
    "print(p)"
   ]
  },
  {
   "cell_type": "code",
   "execution_count": 24,
   "metadata": {
    "colab": {
     "base_uri": "https://localhost:8080/"
    },
    "id": "uDF7GsdIy4o9",
    "outputId": "edfff131-4921-48d4-e285-e440bb20cb4a"
   },
   "outputs": [
    {
     "name": "stdout",
     "output_type": "stream",
     "text": [
      "6/6 [==============================] - 0s 5ms/step - loss: 0.1028 - accuracy: 0.9708\n",
      "Model Accuracy --  [0.10277383029460907, 0.9707602262496948]\n"
     ]
    }
   ],
   "source": [
    "print(\"Output -- \", model.evaluate(X_test, y_test))"
   ]
  },
  {
   "cell_type": "code",
   "execution_count": 25,
   "metadata": {
    "colab": {
     "base_uri": "https://localhost:8080/"
    },
    "id": "sgg6RA9uzB93",
    "outputId": "4b5e6030-7290-42b0-a8e8-b36dad747be7"
   },
   "outputs": [
    {
     "name": "stdout",
     "output_type": "stream",
     "text": [
      "Accuracy  0.9707602339181286\n"
     ]
    }
   ],
   "source": [
    "print(\"Accuracy \", np.mean( p == y_test))"
   ]
  },
  {
   "cell_type": "code",
   "execution_count": null,
   "metadata": {
    "id": "1JqgK3iXzNu3"
   },
   "outputs": [],
   "source": []
  }
 ],
 "metadata": {
  "accelerator": "GPU",
  "colab": {
   "collapsed_sections": [],
   "name": "classification_problem.ipynb",
   "provenance": []
  },
  "kernelspec": {
   "display_name": "Python 3",
   "language": "python",
   "name": "python3"
  },
  "language_info": {
   "codemirror_mode": {
    "name": "ipython",
    "version": 3
   },
   "file_extension": ".py",
   "mimetype": "text/x-python",
   "name": "python",
   "nbconvert_exporter": "python",
   "pygments_lexer": "ipython3",
   "version": "3.8.8"
  }
 },
 "nbformat": 4,
 "nbformat_minor": 1
}
