{
 "cells": [
  {
   "cell_type": "markdown",
   "id": "cf700cfc",
   "metadata": {},
   "source": [
    "Regression - Trying to fit a line with a bunch of coordinates\n",
    "Classification - Both classification and regression - supervised learning\n",
    "Classification - Predict if smoker or not / Regression - Predict a salary\n",
    "Classification - Separate the coordinates with a line. "
   ]
  },
  {
   "cell_type": "code",
   "execution_count": null,
   "id": "4deb0f5a",
   "metadata": {},
   "outputs": [],
   "source": []
  }
 ],
 "metadata": {
  "kernelspec": {
   "display_name": "Python 3",
   "language": "python",
   "name": "python3"
  },
  "language_info": {
   "codemirror_mode": {
    "name": "ipython",
    "version": 3
   },
   "file_extension": ".py",
   "mimetype": "text/x-python",
   "name": "python",
   "nbconvert_exporter": "python",
   "pygments_lexer": "ipython3",
   "version": "3.8.8"
  }
 },
 "nbformat": 4,
 "nbformat_minor": 5
}
